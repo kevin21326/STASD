{
 "cells": [
  {
   "cell_type": "markdown",
   "metadata": {},
   "source": [
    "# Week 13. In-Class Practice\n",
    "## 修真聊天群的 word2vec 實作\n",
    "本文參考[自然語言處理入門- Word2vec小實作](https://medium.com/pyladies-taiwan/%E8%87%AA%E7%84%B6%E8%AA%9E%E8%A8%80%E8%99%95%E7%90%86%E5%85%A5%E9%96%80-word2vec%E5%B0%8F%E5%AF%A6%E4%BD%9C-f8832d9677c8)進行詞向量實作應用"
   ]
  },
  {
   "cell_type": "code",
   "execution_count": 1,
   "metadata": {},
   "outputs": [],
   "source": [
    "import jieba\n",
    "import numpy as np\n",
    "import gensim\n",
    "import warnings\n",
    "from ipywidgets import IntProgress\n",
    "from hanziconv import HanziConv\n",
    "from IPython.display import display\n",
    "warnings.filterwarnings(\"ignore\")"
   ]
  },
  {
   "cell_type": "code",
   "execution_count": 2,
   "metadata": {},
   "outputs": [
    {
     "name": "stdout",
     "output_type": "stream",
     "text": [
      "Text lines: 213871\n"
     ]
    }
   ],
   "source": [
    "file_train_read = []\n",
    "with open('./dataset/xiuzhenliaotianqun.txt', encoding='utf-8') as file_train_raw:\n",
    "    for line in file_train_raw:\n",
    "        if line.strip() != '':\n",
    "            file_train_read.append(HanziConv.toTraditional(line.strip()))\n",
    "\n",
    "print(\"Text lines:\", len(file_train_read))"
   ]
  },
  {
   "cell_type": "code",
   "execution_count": 3,
   "metadata": {},
   "outputs": [
    {
     "name": "stdout",
     "output_type": "stream",
     "text": [
      "Stopwords number: 745\n"
     ]
    }
   ],
   "source": [
    "stopwords = set()\n",
    "with open('./dataset/stopwords.txt', encoding='utf-8') as stopword_file:\n",
    "    for words in stopword_file:\n",
    "        stopwords.add(HanziConv.toTraditional(words.strip()))\n",
    "\n",
    "print(\"Stopwords number:\", len(stopwords))"
   ]
  },
  {
   "cell_type": "markdown",
   "metadata": {},
   "source": [
    "### 斷詞與word2vec實現\n",
    "### 1. 進行斷詞"
   ]
  },
  {
   "cell_type": "code",
   "execution_count": 4,
   "metadata": {},
   "outputs": [
    {
     "data": {
      "application/vnd.jupyter.widget-view+json": {
       "model_id": "b3c1df79a7f8460b8f536a5d3b627914",
       "version_major": 2,
       "version_minor": 0
      },
      "text/plain": [
       "IntProgress(value=0, description='[ 0 / 213871 ]', max=213871)"
      ]
     },
     "metadata": {},
     "output_type": "display_data"
    },
    {
     "name": "stderr",
     "output_type": "stream",
     "text": [
      "Building prefix dict from the default dictionary ...\n",
      "Dumping model to file cache C:\\Users\\Kevin\\AppData\\Local\\Temp\\jieba.cache\n",
      "Loading model cost 0.922 seconds.\n",
      "Prefix dict has been built succesfully.\n"
     ]
    }
   ],
   "source": [
    "progress = IntProgress(min=0, max=len(file_train_read))\n",
    "progress.value = 0\n",
    "progress.description = \"[ %s / %s ]\"%(str(progress.value), str(progress.max))\n",
    "display(progress)\n",
    "\n",
    "file_train_seg = []\n",
    "for i in range(len(file_train_read)):\n",
    "    file_train_seg.append([' '.join([word for word in jieba.cut(file_train_read[i], cut_all=False)\n",
    "                                            if word not in stopwords])])\n",
    "    progress.value +=1\n",
    "    progress.description = \"[ %s / %s ]\"%(str(progress.value), str(progress.max))"
   ]
  },
  {
   "cell_type": "code",
   "execution_count": 5,
   "metadata": {},
   "outputs": [
    {
     "name": "stdout",
     "output_type": "stream",
     "text": [
      "季節 江南 地區 晝夜 溫差 變 很大 白天 還穿 褲衩 熱成 狗 晚上 縮 窩 裏 凍成 寒號 鳥\n"
     ]
    }
   ],
   "source": [
    "# 將 jieba 的斷詞產出存檔\n",
    "file_seg_word_done_path = 'corpus_seg_done.txt'\n",
    "with open(file_seg_word_done_path, 'wb') as f:\n",
    "    for i in range(len(file_train_seg)):\n",
    "        f.write((file_train_seg[i][0] + '\\n').encode('utf-8'))\n",
    "\n",
    "# 檢視斷詞 jieba 的結果\n",
    "def print_list_chinese(list):\n",
    "    for i in range(len(list)):\n",
    "        print(list[i])\n",
    "        \n",
    "print_list_chinese(file_train_seg[3])"
   ]
  },
  {
   "cell_type": "markdown",
   "metadata": {},
   "source": [
    "### 2. word2vec 轉成高維空間向量"
   ]
  },
  {
   "cell_type": "code",
   "execution_count": 6,
   "metadata": {},
   "outputs": [],
   "source": [
    "# jieba分詞轉 word2vec 向量\n",
    "from gensim.models import word2vec\n",
    "sentences = word2vec.LineSentence(file_seg_word_done_path)\n",
    "model = word2vec.Word2Vec(sentences, size=250)\n",
    "model.save(\"word2vec.model\")"
   ]
  },
  {
   "cell_type": "code",
   "execution_count": 7,
   "metadata": {},
   "outputs": [
    {
     "data": {
      "text/plain": [
       "array([[ 0.04239118,  2.2368786 ,  0.30990183, -0.08359413, -1.0853539 ,\n",
       "         0.0759657 , -0.23383838,  0.3426413 ,  0.18601863, -0.5962879 ],\n",
       "       [ 0.2396643 ,  0.11543863, -0.32107928,  0.2733872 , -2.210506  ,\n",
       "        -0.24299635, -0.8398925 ,  0.42983028,  0.06868538,  0.03340372],\n",
       "       [-0.21449733, -0.19465223,  0.24281439,  2.0364785 ,  0.43886843,\n",
       "        -0.6746982 ,  0.39290628,  0.3287636 , -0.08788708,  1.498413  ],\n",
       "       [ 1.1003132 ,  0.7388448 , -0.06538768,  1.5955142 , -0.45680928,\n",
       "         1.3649564 ,  0.40499634,  0.12498713,  0.40499213, -0.54926616],\n",
       "       [ 0.18385495,  0.87436664,  0.7310566 , -1.3061672 ,  0.16058248,\n",
       "         0.53631353, -0.20152706, -1.1882176 , -0.40539148, -0.7878539 ],\n",
       "       [ 0.4087804 ,  1.154071  ,  0.28252983,  0.6422841 , -0.39542902,\n",
       "         2.339106  , -0.74904156,  0.2211862 , -0.40371832,  0.59000033],\n",
       "       [-0.62723345, -0.763722  ,  1.3520223 , -0.27305758,  0.29744628,\n",
       "         0.5772125 ,  1.0707628 , -1.5199472 , -0.78920275, -0.56486905],\n",
       "       [ 1.6694161 , -0.75071883, -0.9372736 , -0.9994249 , -1.5611098 ,\n",
       "         1.6828905 , -0.53422356,  0.55880374,  0.783793  , -2.2445393 ],\n",
       "       [-0.9892715 ,  0.74075556, -0.7194352 , -0.422997  , -1.8483212 ,\n",
       "        -1.8733791 , -0.03830779, -0.19382907, -0.0052171 ,  2.311145  ],\n",
       "       [ 0.93806684, -0.04650507,  0.10708868, -0.29358277, -0.13868026,\n",
       "        -0.41842133, -0.7825793 ,  0.24019893,  0.43588027,  0.9303521 ]],\n",
       "      dtype=float32)"
      ]
     },
     "execution_count": 7,
     "metadata": {},
     "output_type": "execute_result"
    }
   ],
   "source": [
    "# 可以用 model.wv.syn0 檢視詞向量，因為一個詞有250個維度，全部列出過於冗長.....\n",
    "# 這邊僅僅呈現 10 個詞的 10 個維度\n",
    "\n",
    "model.wv.syn0[0:10,0:10]"
   ]
  },
  {
   "cell_type": "code",
   "execution_count": 8,
   "metadata": {},
   "outputs": [
    {
     "name": "stdout",
     "output_type": "stream",
     "text": [
      "高升\n",
      "丹藥\n",
      "起身\n",
      "路\n",
      "盔甲\n"
     ]
    }
   ],
   "source": [
    "# 可檢視第 996~1000 個字詞是什麼\n",
    "\n",
    "for i in range(995,1000):\n",
    "    print(model.wv.index2word[i])"
   ]
  },
  {
   "cell_type": "markdown",
   "metadata": {},
   "source": [
    "### 評價所建「詞向量」的好壞"
   ]
  },
  {
   "cell_type": "code",
   "execution_count": 9,
   "metadata": {},
   "outputs": [
    {
     "name": "stdout",
     "output_type": "stream",
     "text": [
      "宋書航 相近詞： ['書航', '瞭書航', '宋航', '赤瞳', '將書航', '著書航', '那書航', '小彩', '葉思', '瞭宋書航'] \n",
      "\n",
      "修真 相近詞： ['資料', '本次', '轉職', '加入', '臨時', '設定', '權限', '簡化', '詳細', '丹方'] \n",
      "\n",
      "法術 相近詞： ['催眠', '道術', '能力', '技能', '天賦', '秘法', '強力', '小法術', '秘術', '術'] \n",
      "\n"
     ]
    },
    {
     "data": {
      "text/plain": [
       "[('書航', 0.6561259031295776),\n",
       " ('瞭書航', 0.5809797048568726),\n",
       " ('宋航', 0.5807603001594543),\n",
       " ('赤瞳', 0.5756723880767822),\n",
       " ('將書航', 0.5499818325042725),\n",
       " ('著書航', 0.4900533854961395),\n",
       " ('那書航', 0.48526012897491455),\n",
       " ('小彩', 0.4827609956264496),\n",
       " ('葉思', 0.4780072569847107),\n",
       " ('瞭宋書航', 0.476456880569458)]"
      ]
     },
     "execution_count": 9,
     "metadata": {},
     "output_type": "execute_result"
    }
   ],
   "source": [
    "# 顯示空間距離相近的詞\n",
    "print(\"宋書航 相近詞：\", [i[0] for i in model.similar_by_vector('宋書航')], '\\n')\n",
    "print(\"修真 相近詞：\", [i[0] for i in model.similar_by_vector('修真')], '\\n')\n",
    "print(\"法術 相近詞：\", [i[0] for i in model.similar_by_vector('法術')], '\\n')\n",
    "\n",
    "# 顯示相近詞和詞向量，直接使用 similar_by_vector() 就可以了\n",
    "model.similar_by_vector('宋書航')"
   ]
  },
  {
   "cell_type": "markdown",
   "metadata": {},
   "source": [
    "回過頭來看一下詞向量模型的結果。\n",
    "\n",
    "首先我們用咱們男主角的名字「宋書航」丟進去測試，原則上要跑出一些主線人物的名字，畢竟他們伴隨著男主角成長，比較可能存在類似的脈絡中而被模型捕捉到。乍看也還算合理，不過「瞭書航」、「著書航」這二個詞很明顯地就是由簡轉繁引發的斷詞失誤了。\n",
    "\n",
    "第二個嘗試看看「修真」的相近詞，跑出來「資料」、「權限」、「共享」等詞彙，再度懷疑是斷詞引擎或者詞向量模型出了問題。其實不然，有看過這部小說的同學就會知道這部作品是多麼的不(ㄋㄠˇ) 落(ㄉㄨㄥˋ) 俗(ㄉㄚˋ) 套(ㄎㄞ)。這個例子再度告訴我們，Domain Knowledge 的重要性啊 XDDD。\n",
    "\n",
    "最後看看「法術」的相近詞，嗯，終於合乎我們的預期。這些字詞都是玄幻修真類小說的常用語彙，成功～\n",
    "\n",
    "---------"
   ]
  },
  {
   "cell_type": "markdown",
   "metadata": {},
   "source": [
    "不過還有一個小麻煩，同樣關乎斷詞引擎的失誤，就是當我們輸入一個很重要的角色「白前輩」進去搜尋相近詞時，居然找不到！"
   ]
  },
  {
   "cell_type": "code",
   "execution_count": 10,
   "metadata": {},
   "outputs": [
    {
     "ename": "KeyError",
     "evalue": "\"word '白前輩' not in vocabulary\"",
     "output_type": "error",
     "traceback": [
      "\u001b[1;31m---------------------------------------------------------------------------\u001b[0m",
      "\u001b[1;31mKeyError\u001b[0m                                  Traceback (most recent call last)",
      "\u001b[1;32m<ipython-input-10-1afb698b8e32>\u001b[0m in \u001b[0;36m<module>\u001b[1;34m\u001b[0m\n\u001b[1;32m----> 1\u001b[1;33m \u001b[0mmodel\u001b[0m\u001b[1;33m.\u001b[0m\u001b[0msimilar_by_vector\u001b[0m\u001b[1;33m(\u001b[0m\u001b[1;34m'白前輩'\u001b[0m\u001b[1;33m)\u001b[0m\u001b[1;33m\u001b[0m\u001b[1;33m\u001b[0m\u001b[0m\n\u001b[0m",
      "\u001b[1;32mC:\\ProgramData\\Anaconda3\\lib\\site-packages\\gensim\\utils.py\u001b[0m in \u001b[0;36mnew_func1\u001b[1;34m(*args, **kwargs)\u001b[0m\n\u001b[0;32m   1445\u001b[0m                     \u001b[0mstacklevel\u001b[0m\u001b[1;33m=\u001b[0m\u001b[1;36m2\u001b[0m\u001b[1;33m\u001b[0m\u001b[1;33m\u001b[0m\u001b[0m\n\u001b[0;32m   1446\u001b[0m                 )\n\u001b[1;32m-> 1447\u001b[1;33m                 \u001b[1;32mreturn\u001b[0m \u001b[0mfunc\u001b[0m\u001b[1;33m(\u001b[0m\u001b[1;33m*\u001b[0m\u001b[0margs\u001b[0m\u001b[1;33m,\u001b[0m \u001b[1;33m**\u001b[0m\u001b[0mkwargs\u001b[0m\u001b[1;33m)\u001b[0m\u001b[1;33m\u001b[0m\u001b[1;33m\u001b[0m\u001b[0m\n\u001b[0m\u001b[0;32m   1448\u001b[0m \u001b[1;33m\u001b[0m\u001b[0m\n\u001b[0;32m   1449\u001b[0m             \u001b[1;32mreturn\u001b[0m \u001b[0mnew_func1\u001b[0m\u001b[1;33m\u001b[0m\u001b[1;33m\u001b[0m\u001b[0m\n",
      "\u001b[1;32mC:\\ProgramData\\Anaconda3\\lib\\site-packages\\gensim\\models\\base_any2vec.py\u001b[0m in \u001b[0;36msimilar_by_vector\u001b[1;34m(self, vector, topn, restrict_vocab)\u001b[0m\n\u001b[0;32m   1432\u001b[0m \u001b[1;33m\u001b[0m\u001b[0m\n\u001b[0;32m   1433\u001b[0m         \"\"\"\n\u001b[1;32m-> 1434\u001b[1;33m         \u001b[1;32mreturn\u001b[0m \u001b[0mself\u001b[0m\u001b[1;33m.\u001b[0m\u001b[0mwv\u001b[0m\u001b[1;33m.\u001b[0m\u001b[0msimilar_by_vector\u001b[0m\u001b[1;33m(\u001b[0m\u001b[0mvector\u001b[0m\u001b[1;33m,\u001b[0m \u001b[0mtopn\u001b[0m\u001b[1;33m,\u001b[0m \u001b[0mrestrict_vocab\u001b[0m\u001b[1;33m)\u001b[0m\u001b[1;33m\u001b[0m\u001b[1;33m\u001b[0m\u001b[0m\n\u001b[0m\u001b[0;32m   1435\u001b[0m \u001b[1;33m\u001b[0m\u001b[0m\n\u001b[0;32m   1436\u001b[0m     \u001b[1;33m@\u001b[0m\u001b[0mdeprecated\u001b[0m\u001b[1;33m(\u001b[0m\u001b[1;34m\"Method will be removed in 4.0.0, use self.wv.doesnt_match() instead\"\u001b[0m\u001b[1;33m)\u001b[0m\u001b[1;33m\u001b[0m\u001b[1;33m\u001b[0m\u001b[0m\n",
      "\u001b[1;32mC:\\ProgramData\\Anaconda3\\lib\\site-packages\\gensim\\models\\keyedvectors.py\u001b[0m in \u001b[0;36msimilar_by_vector\u001b[1;34m(self, vector, topn, restrict_vocab)\u001b[0m\n\u001b[0;32m    607\u001b[0m \u001b[1;33m\u001b[0m\u001b[0m\n\u001b[0;32m    608\u001b[0m         \"\"\"\n\u001b[1;32m--> 609\u001b[1;33m         \u001b[1;32mreturn\u001b[0m \u001b[0mself\u001b[0m\u001b[1;33m.\u001b[0m\u001b[0mmost_similar\u001b[0m\u001b[1;33m(\u001b[0m\u001b[0mpositive\u001b[0m\u001b[1;33m=\u001b[0m\u001b[1;33m[\u001b[0m\u001b[0mvector\u001b[0m\u001b[1;33m]\u001b[0m\u001b[1;33m,\u001b[0m \u001b[0mtopn\u001b[0m\u001b[1;33m=\u001b[0m\u001b[0mtopn\u001b[0m\u001b[1;33m,\u001b[0m \u001b[0mrestrict_vocab\u001b[0m\u001b[1;33m=\u001b[0m\u001b[0mrestrict_vocab\u001b[0m\u001b[1;33m)\u001b[0m\u001b[1;33m\u001b[0m\u001b[1;33m\u001b[0m\u001b[0m\n\u001b[0m\u001b[0;32m    610\u001b[0m \u001b[1;33m\u001b[0m\u001b[0m\n\u001b[0;32m    611\u001b[0m     @deprecated(\n",
      "\u001b[1;32mC:\\ProgramData\\Anaconda3\\lib\\site-packages\\gensim\\models\\keyedvectors.py\u001b[0m in \u001b[0;36mmost_similar\u001b[1;34m(self, positive, negative, topn, restrict_vocab, indexer)\u001b[0m\n\u001b[0;32m    542\u001b[0m                 \u001b[0mmean\u001b[0m\u001b[1;33m.\u001b[0m\u001b[0mappend\u001b[0m\u001b[1;33m(\u001b[0m\u001b[0mweight\u001b[0m \u001b[1;33m*\u001b[0m \u001b[0mword\u001b[0m\u001b[1;33m)\u001b[0m\u001b[1;33m\u001b[0m\u001b[1;33m\u001b[0m\u001b[0m\n\u001b[0;32m    543\u001b[0m             \u001b[1;32melse\u001b[0m\u001b[1;33m:\u001b[0m\u001b[1;33m\u001b[0m\u001b[1;33m\u001b[0m\u001b[0m\n\u001b[1;32m--> 544\u001b[1;33m                 \u001b[0mmean\u001b[0m\u001b[1;33m.\u001b[0m\u001b[0mappend\u001b[0m\u001b[1;33m(\u001b[0m\u001b[0mweight\u001b[0m \u001b[1;33m*\u001b[0m \u001b[0mself\u001b[0m\u001b[1;33m.\u001b[0m\u001b[0mword_vec\u001b[0m\u001b[1;33m(\u001b[0m\u001b[0mword\u001b[0m\u001b[1;33m,\u001b[0m \u001b[0muse_norm\u001b[0m\u001b[1;33m=\u001b[0m\u001b[1;32mTrue\u001b[0m\u001b[1;33m)\u001b[0m\u001b[1;33m)\u001b[0m\u001b[1;33m\u001b[0m\u001b[1;33m\u001b[0m\u001b[0m\n\u001b[0m\u001b[0;32m    545\u001b[0m                 \u001b[1;32mif\u001b[0m \u001b[0mword\u001b[0m \u001b[1;32min\u001b[0m \u001b[0mself\u001b[0m\u001b[1;33m.\u001b[0m\u001b[0mvocab\u001b[0m\u001b[1;33m:\u001b[0m\u001b[1;33m\u001b[0m\u001b[1;33m\u001b[0m\u001b[0m\n\u001b[0;32m    546\u001b[0m                     \u001b[0mall_words\u001b[0m\u001b[1;33m.\u001b[0m\u001b[0madd\u001b[0m\u001b[1;33m(\u001b[0m\u001b[0mself\u001b[0m\u001b[1;33m.\u001b[0m\u001b[0mvocab\u001b[0m\u001b[1;33m[\u001b[0m\u001b[0mword\u001b[0m\u001b[1;33m]\u001b[0m\u001b[1;33m.\u001b[0m\u001b[0mindex\u001b[0m\u001b[1;33m)\u001b[0m\u001b[1;33m\u001b[0m\u001b[1;33m\u001b[0m\u001b[0m\n",
      "\u001b[1;32mC:\\ProgramData\\Anaconda3\\lib\\site-packages\\gensim\\models\\keyedvectors.py\u001b[0m in \u001b[0;36mword_vec\u001b[1;34m(self, word, use_norm)\u001b[0m\n\u001b[0;32m    460\u001b[0m             \u001b[1;32mreturn\u001b[0m \u001b[0mresult\u001b[0m\u001b[1;33m\u001b[0m\u001b[1;33m\u001b[0m\u001b[0m\n\u001b[0;32m    461\u001b[0m         \u001b[1;32melse\u001b[0m\u001b[1;33m:\u001b[0m\u001b[1;33m\u001b[0m\u001b[1;33m\u001b[0m\u001b[0m\n\u001b[1;32m--> 462\u001b[1;33m             \u001b[1;32mraise\u001b[0m \u001b[0mKeyError\u001b[0m\u001b[1;33m(\u001b[0m\u001b[1;34m\"word '%s' not in vocabulary\"\u001b[0m \u001b[1;33m%\u001b[0m \u001b[0mword\u001b[0m\u001b[1;33m)\u001b[0m\u001b[1;33m\u001b[0m\u001b[1;33m\u001b[0m\u001b[0m\n\u001b[0m\u001b[0;32m    463\u001b[0m \u001b[1;33m\u001b[0m\u001b[0m\n\u001b[0;32m    464\u001b[0m     \u001b[1;32mdef\u001b[0m \u001b[0mget_vector\u001b[0m\u001b[1;33m(\u001b[0m\u001b[0mself\u001b[0m\u001b[1;33m,\u001b[0m \u001b[0mword\u001b[0m\u001b[1;33m)\u001b[0m\u001b[1;33m:\u001b[0m\u001b[1;33m\u001b[0m\u001b[1;33m\u001b[0m\u001b[0m\n",
      "\u001b[1;31mKeyError\u001b[0m: \"word '白前輩' not in vocabulary\""
     ]
    }
   ],
   "source": [
    "model.similar_by_vector('白前輩')"
   ]
  },
  {
   "cell_type": "markdown",
   "metadata": {},
   "source": [
    "這邊我們有兩個問題要修正，一是關於簡轉繁後的判讀失誤，二是人名的錯誤斷詞。第一個問題，我們可以先讓斷詞引擎斷完，我們再翻譯語料庫中的詞彙。第二個問題我們則要加入相關字詞的字庫來調整斷詞。"
   ]
  },
  {
   "cell_type": "markdown",
   "metadata": {},
   "source": [
    "------\n",
    "### 修正文本\n",
    "這邊直接導入文本，不做繁簡體的轉換。"
   ]
  },
  {
   "cell_type": "code",
   "execution_count": 11,
   "metadata": {},
   "outputs": [
    {
     "name": "stdout",
     "output_type": "stream",
     "text": [
      "Text lines: 213871\n"
     ]
    }
   ],
   "source": [
    "file_train_read = []\n",
    "with open('./dataset/xiuzhenliaotianqun.txt', encoding='utf-8') as file_train_raw:\n",
    "    for line in file_train_raw:\n",
    "        if line.strip() != '':\n",
    "            file_train_read.append(line.strip())\n",
    "\n",
    "print(\"Text lines:\", len(file_train_read))"
   ]
  },
  {
   "cell_type": "code",
   "execution_count": 12,
   "metadata": {},
   "outputs": [
    {
     "name": "stdout",
     "output_type": "stream",
     "text": [
      "Stopwords number: 746\n"
     ]
    }
   ],
   "source": [
    "stopwords = set()\n",
    "with open('./dataset/stopwords.txt', encoding='utf-8') as stopword_file:\n",
    "    for words in stopword_file:\n",
    "        stopwords.add(words.strip())\n",
    "\n",
    "print(\"Stopwords number:\", len(stopwords))"
   ]
  },
  {
   "cell_type": "markdown",
   "metadata": {},
   "source": [
    "### 建立字典\n",
    "我們從百度上面透過爬蟲抓了一些關鍵字(角色名稱、事物)當作分詞的辭典，加強斷詞的效果。"
   ]
  },
  {
   "cell_type": "code",
   "execution_count": 13,
   "metadata": {},
   "outputs": [
    {
     "name": "stderr",
     "output_type": "stream",
     "text": [
      "Building prefix dict from the default dictionary ...\n",
      "Loading model from cache C:\\Users\\Kevin\\AppData\\Local\\Temp\\jieba.cache\n"
     ]
    },
    {
     "name": "stdout",
     "output_type": "stream",
     "text": [
      "{'始祖）', '修真聊天群', '霸霸', '作品：', '九洲一号群', '五品灵皇', '醉月居士', '捉妖人长生者', '荔枝仙子', '御剑飞行', '千年第二玄（怂）圣', '破阳戟郭大', '隐藏于历史中的巫法祭坛', '石巨人', '活泉', '霸巫', '四品先天', '二维码', '恒火真君', '白鹤真君', '宋木头/', '空间天赋', '灵蝶圣君', '黑皮羽柔子', '诸神学徒', '永不陷落的圣城', '品真君', '七生符府主', '雷火', '田甜副岛主', '叶思', '八品玄圣', '楚阁主', '“伪不朽烟雾状态·极限弱化版”', '程琳的女儿', '霸宋', '复活', '钢铁化身', '古魔灵力', '金莲空间', '蜃能', '天雷猪', '程琳', '长生之道', '第二刀意：', '伪不朽烟雾状态·极限弱化版', '宋壹', '东', '赤霄子', '下阶灵鬼', '白玄圣', '丹成无悔', '琉璃', '无龙纹', '流萤仙子', '虚丹', '田天岛主', '【那为世界带来终焉的圣剑】', '邪莲空间', '莲花虚影', '玄女门云雀子', '虚幻的真实，', '复仇印记', '上阶灵鬼', '【被连接的世界】', '感情路线', '何止魔帝', '小白，待你长发及腰，嫁我可好？', '北河散人', '斑纹龙two', '儒门圣人', '大道', '本心', '五', '落尘真君', '【隐藏于历史中的巫法祭坛】', '我那放荡不羁的人生', '天劫世界', '江紫烟', '铁卦算仙', '其他', '霸儒', '云游僧通玄', '琉璃书生', '喜欢宋书航', '灭凤公子', '北方大帝', '羽柔子', '暴力路线', '白前辈', '楚阁主two', '紫金丹', '霸龙', '针针计较', '笔名：', '起点中文网', '本命法器', '魔前显身', '特点：', '功德之力', '白龙姐姐（金龙始祖）', '七', '第一幻象：', '科学系能源', '蛟霸真君', '大罗教雨月真君', '心魔劫', '永不平息的暴怒残阳', '实金丹', '逆鲸武士', '第一刀意', '造化仙子（此为戏称，真名未知）', '造化法王', '海胆战士二十年义务教育教科书', '金丹', '第三幻象', '九层灵湖', '九转凤凰功', '苏氏阿七', '圣印', '三', '【曾经于远古绝唱的圣人之音】', '鲸神', '第二幻象', '千年第一玄圣', '主要法术', '古湖观真君', '依旧是永不陷落的圣城】、【圣城崩溃后……那毁灭万物的巨人】', '【创造和毁灭之星】', '精神力', '核心世界', '霸刀宋壹', '宋书航', '入梦', '劫仙生机', '天魔九舞', '【无限的碧水阁】', '三眼少年', '【圣城崩溃后……那毁灭万物的巨人】', '马路杀手', '虚幻的真实', '天帝', '合成召唤', '铜卦仙师', '蝶宋白化黄.卦荔六豆凤', '雪狼洞主', '六品真君', '@#%x仙子', '魔力充值机', '爱好：', '品大妖', '仙家萌瞄娇养成', '苏氏阿十六', '刀道', '黄山尊者', '九层灵湖，', '献公居士', '九修凤凰刀', '玄圣', '六修', '墨门长生者', '白骨仙子', '望天龟', '一颗金丹定大道', '异界之极品奶爸', '黄山真君', '先天真元', '创造和毁灭之星', '七品尊者', '白前辈two', '霸灭', '品尊者', '终焉之神', '鲸丹', '玄魔', '巫力', '道号', '真我', '末法之战', '霸魔', '白马青衫少年郎', '人前显圣', '核弹', '小白，待你长发及腰，嫁我可好', '《海胆战士二十年义务教育教科书》（笑）', '五品大妖', '古圣', '战王之躯', '九幽金属球', '幸存', '、圣城崩溃后……那毁灭万物的巨人', '霸刀', '道子', '魔道厨心', '中阶灵鬼', '将两百三十万人送进了医院', '新天道', '六', '献祭仪式', '七品尊者，', '妖气', '星路', '方静雪', '狂刀三浪', '鱼娇娇', '不灭之主', '性别：', '妖精顽强生存下来必须的两百个本事', '药师', '金丹构图', '东方六仙子', '真实的虚幻', '氢弹', '七修圣君', '豆豆', '异术超能'}\n"
     ]
    },
    {
     "name": "stderr",
     "output_type": "stream",
     "text": [
      "Loading model cost 0.942 seconds.\n",
      "Prefix dict has been built succesfully.\n"
     ]
    }
   ],
   "source": [
    "import sys\n",
    "sys.path.insert(0, \"../modules\")\n",
    "import wenwenbaidu as wwbd\n",
    "\n",
    "dictwords = set(wwbd.get_keywords())\n",
    "dictwords.add('白前辈')\n",
    "print(dictwords)\n",
    "\n",
    "for i in dictwords:\n",
    "    jieba.add_word(i)\n",
    "    jieba.suggest_freq(i, tune=True)"
   ]
  },
  {
   "cell_type": "code",
   "execution_count": 14,
   "metadata": {},
   "outputs": [
    {
     "data": {
      "application/vnd.jupyter.widget-view+json": {
       "model_id": "cd572551e47141c7a8987b47a3c28cc3",
       "version_major": 2,
       "version_minor": 0
      },
      "text/plain": [
       "IntProgress(value=0, description='[ 0 / 213871 ]', max=213871)"
      ]
     },
     "metadata": {},
     "output_type": "display_data"
    },
    {
     "name": "stderr",
     "output_type": "stream",
     "text": [
      "IOPub message rate exceeded.\n",
      "The notebook server will temporarily stop sending output\n",
      "to the client in order to avoid crashing it.\n",
      "To change this limit, set the config variable\n",
      "`--NotebookApp.iopub_msg_rate_limit`.\n",
      "\n",
      "Current values:\n",
      "NotebookApp.iopub_msg_rate_limit=1000.0 (msgs/sec)\n",
      "NotebookApp.rate_limit_window=3.0 (secs)\n",
      "\n",
      "IOPub message rate exceeded.\n",
      "The notebook server will temporarily stop sending output\n",
      "to the client in order to avoid crashing it.\n",
      "To change this limit, set the config variable\n",
      "`--NotebookApp.iopub_msg_rate_limit`.\n",
      "\n",
      "Current values:\n",
      "NotebookApp.iopub_msg_rate_limit=1000.0 (msgs/sec)\n",
      "NotebookApp.rate_limit_window=3.0 (secs)\n",
      "\n",
      "IOPub message rate exceeded.\n",
      "The notebook server will temporarily stop sending output\n",
      "to the client in order to avoid crashing it.\n",
      "To change this limit, set the config variable\n",
      "`--NotebookApp.iopub_msg_rate_limit`.\n",
      "\n",
      "Current values:\n",
      "NotebookApp.iopub_msg_rate_limit=1000.0 (msgs/sec)\n",
      "NotebookApp.rate_limit_window=3.0 (secs)\n",
      "\n",
      "IOPub message rate exceeded.\n",
      "The notebook server will temporarily stop sending output\n",
      "to the client in order to avoid crashing it.\n",
      "To change this limit, set the config variable\n",
      "`--NotebookApp.iopub_msg_rate_limit`.\n",
      "\n",
      "Current values:\n",
      "NotebookApp.iopub_msg_rate_limit=1000.0 (msgs/sec)\n",
      "NotebookApp.rate_limit_window=3.0 (secs)\n",
      "\n"
     ]
    }
   ],
   "source": [
    "progress = IntProgress(min=0, max=len(file_train_read))\n",
    "progress.value = 0\n",
    "progress.description = \"[ %s / %s ]\"%(str(progress.value), str(progress.max))\n",
    "display(progress)\n",
    "\n",
    "# 用 jieba 斷詞\n",
    "file_train_seg = []\n",
    "for i in range(len(file_train_read)):\n",
    "    file_train_seg.append([' '.join([word for word in jieba.cut(file_train_read[i], cut_all=False)\n",
    "                                            if word not in stopwords])])\n",
    "    progress.value +=1\n",
    "    progress.description = \"[ %s / %s ]\"%(str(progress.value), str(progress.max))\n",
    "    \n",
    "# 將 jieba 的斷詞產出存檔\n",
    "file_seg_word_done_path = 'corpus_seg_done.txt'\n",
    "with open(file_seg_word_done_path, 'wb') as f:\n",
    "    for i in range(len(file_train_seg)):\n",
    "        f.write((file_train_seg[i][0] + '\\n').encode('utf-8'))"
   ]
  },
  {
   "cell_type": "code",
   "execution_count": 15,
   "metadata": {},
   "outputs": [
    {
     "name": "stdout",
     "output_type": "stream",
     "text": [
      "季节 江南地区 昼夜 温差 变 很大 白天 穿 裤衩 热成 狗 晚上 缩 被窝 里 冻成 寒号鸟\n"
     ]
    }
   ],
   "source": [
    "# 檢視斷詞 jieba 的結果\n",
    "def print_list_chinese(list):\n",
    "    for i in range(len(list)):\n",
    "        print(list[i])\n",
    "        \n",
    "print_list_chinese(file_train_seg[3])"
   ]
  },
  {
   "cell_type": "code",
   "execution_count": 16,
   "metadata": {},
   "outputs": [],
   "source": [
    "# jieba分詞轉 word2vec 向量\n",
    "from gensim.models import word2vec\n",
    "sentences = word2vec.LineSentence(file_seg_word_done_path)\n",
    "model = word2vec.Word2Vec(sentences, size=250)\n",
    "model.save(\"word2vec.model\")"
   ]
  },
  {
   "cell_type": "markdown",
   "metadata": {},
   "source": [
    "### 重新分詞後的詞向量\n",
    "這次的結果就顯得比較合理，沒有出現奇怪的字詞。"
   ]
  },
  {
   "cell_type": "code",
   "execution_count": 17,
   "metadata": {},
   "outputs": [
    {
     "name": "stdout",
     "output_type": "stream",
     "text": [
      "宋書航 相近詞： ['书航', '宋航', '赤瞳', '苏氏阿十六', '十六', '将书航', '楚康伯', '小彩', '黄山尊者', '葱娘'] \n",
      "\n",
      "修真 相近詞： ['资料', '设定', '修真界', '知识', '生活', '详细', '涉及', '冒险', '仪式', '联盟'] \n",
      "\n",
      "法術 相近詞： ['道术', '秘术', '幻术', '能力', '效果', '起到', '类', '漫步', '治愈', '催眠'] \n",
      "\n"
     ]
    }
   ],
   "source": [
    "# 顯示空間距離相近的詞\n",
    "print(\"宋書航 相近詞：\", [i[0] for i in model.similar_by_vector('宋书航')], '\\n')\n",
    "print(\"修真 相近詞：\", [i[0] for i in model.similar_by_vector('修真')], '\\n')\n",
    "print(\"法術 相近詞：\", [i[0] for i in model.similar_by_vector('法术')], '\\n')"
   ]
  },
  {
   "cell_type": "markdown",
   "metadata": {},
   "source": [
    "### 將距離相近的詞以視覺化呈現\n",
    "我們可以試著把小說裡面的角色，利用 PCA 降維至平面上然後進行視覺化。"
   ]
  },
  {
   "cell_type": "code",
   "execution_count": 18,
   "metadata": {},
   "outputs": [
    {
     "name": "stdout",
     "output_type": "stream",
     "text": [
      "九州一號群內角色：\n",
      "\n",
      "苏氏阿十六 相近詞： ['十六', '鱼娇娇', '黑皮羽柔子', '诗', '七生符府主', '宋航', '三人', '小彩', '羽柔子', '黄山尊者'] \n",
      "\n",
      "羽柔子 相近詞： ['黑皮羽柔子', '十六', '鱼娇娇', '苏氏阿十六', '江紫烟', '九灯', '叶思', '荔枝仙子', '阿爹', '宋妈妈'] \n",
      "\n",
      "白前辈 相近詞： ['白前辈two', '本尊', '分身', 'ｏ', '白鹤真君', '白', '楚阁主', '本体', '女士', '十六'] \n",
      "\n",
      "黄山尊者 相近詞： ['七生符府主', '献公居士', '七修圣君', '东方六仙子', '黄山真君', '荔枝仙子', '娇娇', '流萤仙子', '落尘真君', '灵蝶圣君'] \n",
      "\n",
      "\n",
      "(遭懟)大佬：\n",
      "\n",
      "白前辈two 相近詞： ['九幽白', '我主', '白前辈', '女士', '清楚', '献公居士', 'to', '理由', '恒火真君', '楚阁主'] \n",
      "\n",
      "胖球 相近詞： ['球', '怼', '遗蜕', '九幽球', '小号', '大佬', '液态', '连九幽', '金属', '天道'] \n",
      "\n",
      "天帝 相近詞： ['主人', '契约', '灵鬼', '金龙', '始祖', '何止魔帝', '北方大帝', '程琳', '楚阁主', '魔帝'] \n",
      "\n",
      "\n",
      "其他人物：\n",
      "\n",
      "程琳 相近詞： ['金龙', '货都', '转世', '昆', '圆圆', '六修', '天帝', '始祖', '签下', '而灵'] \n",
      "\n",
      "琉璃书生 相近詞： ['舍蓝', '枯荣', '坛主', '发光', '那具', '遥遥', '金童玉女', '千手', '双树', '强借'] \n",
      "\n"
     ]
    }
   ],
   "source": [
    "print(\"九州一號群內角色：\\n\")\n",
    "print(\"苏氏阿十六 相近詞：\", [i[0] for i in model.similar_by_vector('苏氏阿十六')], '\\n')\n",
    "print(\"羽柔子 相近詞：\", [i[0] for i in model.similar_by_vector('羽柔子')], '\\n')\n",
    "print(\"白前辈 相近詞：\", [i[0] for i in model.similar_by_vector('白前辈')], '\\n')\n",
    "print(\"黄山尊者 相近詞：\", [i[0] for i in model.similar_by_vector('黄山尊者')], '\\n')\n",
    "\n",
    "print(\"\\n(遭懟)大佬：\\n\")\n",
    "print(\"白前辈two 相近詞：\", [i[0] for i in model.similar_by_vector('白前辈two')], '\\n')\n",
    "print(\"胖球 相近詞：\", [i[0] for i in model.similar_by_vector('胖球')], '\\n')\n",
    "print(\"天帝 相近詞：\", [i[0] for i in model.similar_by_vector('天帝')], '\\n')\n",
    "\n",
    "print(\"\\n其他人物：\\n\")\n",
    "print(\"程琳 相近詞：\", [i[0] for i in model.similar_by_vector('程琳')], '\\n')\n",
    "print(\"琉璃书生 相近詞：\", [i[0] for i in model.similar_by_vector('琉璃书生')], '\\n')"
   ]
  },
  {
   "cell_type": "code",
   "execution_count": 19,
   "metadata": {},
   "outputs": [],
   "source": [
    "from sklearn.decomposition import PCA\n",
    "\n",
    "main_characters = ['宋书航', '苏氏阿十六', '黄山尊者', '白前辈two', '胖球', '天帝', '程琳']\n",
    "word_list = []\n",
    "similar_num = 5\n",
    "for person in main_characters:\n",
    "    word_list.append(person)\n",
    "    word_list = word_list + [i[0] for i in model.similar_by_vector(person)][:similar_num]"
   ]
  },
  {
   "cell_type": "code",
   "execution_count": 20,
   "metadata": {},
   "outputs": [
    {
     "data": {
      "text/plain": [
       "(42, 250)"
      ]
     },
     "execution_count": 20,
     "metadata": {},
     "output_type": "execute_result"
    }
   ],
   "source": [
    "word_vectors = model.wv[word_list]\n",
    "word_vectors.shape"
   ]
  },
  {
   "cell_type": "code",
   "execution_count": 21,
   "metadata": {},
   "outputs": [
    {
     "data": {
      "text/plain": [
       "(42, 2)"
      ]
     },
     "execution_count": 21,
     "metadata": {},
     "output_type": "execute_result"
    }
   ],
   "source": [
    "pca = PCA(n_components=2)\n",
    "reduced_vectors = pca.fit_transform(word_vectors)\n",
    "reduced_vectors.shape"
   ]
  },
  {
   "cell_type": "code",
   "execution_count": 22,
   "metadata": {},
   "outputs": [
    {
     "data": {
      "image/png": "[encoded data removed]",
      "text/plain": [
       "<Figure size 720x720 with 1 Axes>"
      ]
     },
     "metadata": {
      "needs_background": "light"
     },
     "output_type": "display_data"
    }
   ],
   "source": [
    "import matplotlib.pyplot as plt\n",
    "from matplotlib.font_manager import FontProperties\n",
    "%matplotlib inline\n",
    "font = FontProperties(fname = r\"C:\\Windows\\Fonts\\msyh.ttc\")\n",
    "\n",
    "fig, ax = plt.subplots(figsize=(10, 10))\n",
    "ax.set_xlim(-10,10)\n",
    "ax.set_ylim(-10,10)\n",
    "for i in range(len(main_characters)):\n",
    "    text_color = 'C' + str(i)\n",
    "    for j in range(i*6, i*6+similar_num+1):\n",
    "        ax.annotate(word_list[j], xy=reduced_vectors[j,:], color=text_color, fontsize=12, fontproperties=font)\n",
    "plt.show()"
   ]
  },
  {
   "cell_type": "markdown",
   "metadata": {},
   "source": [
    "如果有看過這部小說的人，大致可以透過降維後的視覺化，發現詞向量的合理。九州一號群分布於座標軸的左半部分(黃山尊者在中間真不愧是群主)，九幽界的大佬們在右下半部，天庭相關的角色分布於右上半部。有興趣的人可以試著玩玩看其他的文本~~"
   ]
  },
  {
   "cell_type": "markdown",
   "metadata": {},
   "source": [
    "#"
   ]
  }
 ],
 "metadata": {
  "kernelspec": {
   "display_name": "Python 3",
   "language": "python",
   "name": "python3"
  },
  "language_info": {
   "codemirror_mode": {
    "name": "ipython",
    "version": 3
   },
   "file_extension": ".py",
   "mimetype": "text/x-python",
   "name": "python",
   "nbconvert_exporter": "python",
   "pygments_lexer": "ipython3",
   "version": "3.7.1"
  }
 },
 "nbformat": 4,
 "nbformat_minor": 2
}
