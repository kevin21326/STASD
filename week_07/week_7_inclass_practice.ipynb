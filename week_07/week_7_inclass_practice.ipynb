{
 "cells": [
  {
   "cell_type": "markdown",
   "metadata": {},
   "source": [
    "# Week 7. In-Class Practice"
   ]
  },
  {
   "cell_type": "code",
   "execution_count": 1,
   "metadata": {},
   "outputs": [],
   "source": [
    "import numpy as np\n",
    "import pandas as pd\n",
    "import seaborn as sns\n",
    "from matplotlib import cm\n",
    "import matplotlib.pyplot as plt\n",
    "%matplotlib inline"
   ]
  },
  {
   "cell_type": "markdown",
   "metadata": {},
   "source": [
    "### 將 Titanic 資料讀入"
   ]
  },
  {
   "cell_type": "code",
   "execution_count": 2,
   "metadata": {},
   "outputs": [
    {
     "name": "stdout",
     "output_type": "stream",
     "text": [
      "<class 'pandas.core.frame.DataFrame'>\n",
      "RangeIndex: 1000 entries, 0 to 999\n",
      "Data columns (total 14 columns):\n",
      "pclass       1000 non-null int64\n",
      "survived     1000 non-null int64\n",
      "name         1000 non-null object\n",
      "sex          1000 non-null object\n",
      "age          861 non-null float64\n",
      "sibsp        1000 non-null int64\n",
      "parch        1000 non-null int64\n",
      "ticket       1000 non-null object\n",
      "fare         1000 non-null float64\n",
      "cabin        283 non-null object\n",
      "embarked     998 non-null object\n",
      "boat         417 non-null object\n",
      "body         95 non-null float64\n",
      "home.dest    742 non-null object\n",
      "dtypes: float64(3), int64(4), object(7)\n",
      "memory usage: 109.5+ KB\n"
     ]
    }
   ],
   "source": [
    "data = pd.read_csv(\"dataset/titanicTrain.csv\")\n",
    "data.info()"
   ]
  },
  {
   "cell_type": "markdown",
   "metadata": {},
   "source": [
    "其中`age`、`cabin`、`emabrked`、`cabin`、`boat`、`body`、`home.dest` 有缺失值，在建模之前需要處理這個問題。"
   ]
  },
  {
   "cell_type": "code",
   "execution_count": 3,
   "metadata": {},
   "outputs": [
    {
     "data": {
      "text/html": [
       "<div>\n",
       "<style scoped>\n",
       "    .dataframe tbody tr th:only-of-type {\n",
       "        vertical-align: middle;\n",
       "    }\n",
       "\n",
       "    .dataframe tbody tr th {\n",
       "        vertical-align: top;\n",
       "    }\n",
       "\n",
       "    .dataframe thead th {\n",
       "        text-align: right;\n",
       "    }\n",
       "</style>\n",
       "<table border=\"1\" class=\"dataframe\">\n",
       "  <thead>\n",
       "    <tr style=\"text-align: right;\">\n",
       "      <th></th>\n",
       "      <th>pclass</th>\n",
       "      <th>survived</th>\n",
       "      <th>name</th>\n",
       "      <th>sex</th>\n",
       "      <th>age</th>\n",
       "      <th>sibsp</th>\n",
       "      <th>parch</th>\n",
       "      <th>ticket</th>\n",
       "      <th>fare</th>\n",
       "      <th>cabin</th>\n",
       "      <th>embarked</th>\n",
       "      <th>boat</th>\n",
       "      <th>body</th>\n",
       "      <th>home.dest</th>\n",
       "    </tr>\n",
       "  </thead>\n",
       "  <tbody>\n",
       "    <tr>\n",
       "      <th>0</th>\n",
       "      <td>1</td>\n",
       "      <td>1</td>\n",
       "      <td>Allen, Miss. Elisabeth Walton</td>\n",
       "      <td>female</td>\n",
       "      <td>29.0000</td>\n",
       "      <td>0</td>\n",
       "      <td>0</td>\n",
       "      <td>24160</td>\n",
       "      <td>211.3375</td>\n",
       "      <td>B5</td>\n",
       "      <td>S</td>\n",
       "      <td>2</td>\n",
       "      <td>NaN</td>\n",
       "      <td>St Louis, MO</td>\n",
       "    </tr>\n",
       "    <tr>\n",
       "      <th>1</th>\n",
       "      <td>1</td>\n",
       "      <td>1</td>\n",
       "      <td>Allison, Master. Hudson Trevor</td>\n",
       "      <td>male</td>\n",
       "      <td>0.9167</td>\n",
       "      <td>1</td>\n",
       "      <td>2</td>\n",
       "      <td>113781</td>\n",
       "      <td>151.5500</td>\n",
       "      <td>C22 C26</td>\n",
       "      <td>S</td>\n",
       "      <td>11</td>\n",
       "      <td>NaN</td>\n",
       "      <td>Montreal, PQ / Chesterville, ON</td>\n",
       "    </tr>\n",
       "    <tr>\n",
       "      <th>2</th>\n",
       "      <td>1</td>\n",
       "      <td>0</td>\n",
       "      <td>Allison, Miss. Helen Loraine</td>\n",
       "      <td>female</td>\n",
       "      <td>2.0000</td>\n",
       "      <td>1</td>\n",
       "      <td>2</td>\n",
       "      <td>113781</td>\n",
       "      <td>151.5500</td>\n",
       "      <td>C22 C26</td>\n",
       "      <td>S</td>\n",
       "      <td>NaN</td>\n",
       "      <td>NaN</td>\n",
       "      <td>Montreal, PQ / Chesterville, ON</td>\n",
       "    </tr>\n",
       "    <tr>\n",
       "      <th>3</th>\n",
       "      <td>1</td>\n",
       "      <td>0</td>\n",
       "      <td>Allison, Mr. Hudson Joshua Creighton</td>\n",
       "      <td>male</td>\n",
       "      <td>30.0000</td>\n",
       "      <td>1</td>\n",
       "      <td>2</td>\n",
       "      <td>113781</td>\n",
       "      <td>151.5500</td>\n",
       "      <td>C22 C26</td>\n",
       "      <td>S</td>\n",
       "      <td>NaN</td>\n",
       "      <td>135.0</td>\n",
       "      <td>Montreal, PQ / Chesterville, ON</td>\n",
       "    </tr>\n",
       "    <tr>\n",
       "      <th>4</th>\n",
       "      <td>1</td>\n",
       "      <td>0</td>\n",
       "      <td>Allison, Mrs. Hudson J C (Bessie Waldo Daniels)</td>\n",
       "      <td>female</td>\n",
       "      <td>25.0000</td>\n",
       "      <td>1</td>\n",
       "      <td>2</td>\n",
       "      <td>113781</td>\n",
       "      <td>151.5500</td>\n",
       "      <td>C22 C26</td>\n",
       "      <td>S</td>\n",
       "      <td>NaN</td>\n",
       "      <td>NaN</td>\n",
       "      <td>Montreal, PQ / Chesterville, ON</td>\n",
       "    </tr>\n",
       "    <tr>\n",
       "      <th>5</th>\n",
       "      <td>1</td>\n",
       "      <td>1</td>\n",
       "      <td>Anderson, Mr. Harry</td>\n",
       "      <td>male</td>\n",
       "      <td>48.0000</td>\n",
       "      <td>0</td>\n",
       "      <td>0</td>\n",
       "      <td>19952</td>\n",
       "      <td>26.5500</td>\n",
       "      <td>E12</td>\n",
       "      <td>S</td>\n",
       "      <td>3</td>\n",
       "      <td>NaN</td>\n",
       "      <td>New York, NY</td>\n",
       "    </tr>\n",
       "    <tr>\n",
       "      <th>6</th>\n",
       "      <td>1</td>\n",
       "      <td>1</td>\n",
       "      <td>Andrews, Miss. Kornelia Theodosia</td>\n",
       "      <td>female</td>\n",
       "      <td>63.0000</td>\n",
       "      <td>1</td>\n",
       "      <td>0</td>\n",
       "      <td>13502</td>\n",
       "      <td>77.9583</td>\n",
       "      <td>D7</td>\n",
       "      <td>S</td>\n",
       "      <td>10</td>\n",
       "      <td>NaN</td>\n",
       "      <td>Hudson, NY</td>\n",
       "    </tr>\n",
       "    <tr>\n",
       "      <th>7</th>\n",
       "      <td>1</td>\n",
       "      <td>0</td>\n",
       "      <td>Andrews, Mr. Thomas Jr</td>\n",
       "      <td>male</td>\n",
       "      <td>39.0000</td>\n",
       "      <td>0</td>\n",
       "      <td>0</td>\n",
       "      <td>112050</td>\n",
       "      <td>0.0000</td>\n",
       "      <td>A36</td>\n",
       "      <td>S</td>\n",
       "      <td>NaN</td>\n",
       "      <td>NaN</td>\n",
       "      <td>Belfast, NI</td>\n",
       "    </tr>\n",
       "    <tr>\n",
       "      <th>8</th>\n",
       "      <td>1</td>\n",
       "      <td>1</td>\n",
       "      <td>Appleton, Mrs. Edward Dale (Charlotte Lamson)</td>\n",
       "      <td>female</td>\n",
       "      <td>53.0000</td>\n",
       "      <td>2</td>\n",
       "      <td>0</td>\n",
       "      <td>11769</td>\n",
       "      <td>51.4792</td>\n",
       "      <td>C101</td>\n",
       "      <td>S</td>\n",
       "      <td>D</td>\n",
       "      <td>NaN</td>\n",
       "      <td>Bayside, Queens, NY</td>\n",
       "    </tr>\n",
       "    <tr>\n",
       "      <th>9</th>\n",
       "      <td>1</td>\n",
       "      <td>0</td>\n",
       "      <td>Artagaveytia, Mr. Ramon</td>\n",
       "      <td>male</td>\n",
       "      <td>71.0000</td>\n",
       "      <td>0</td>\n",
       "      <td>0</td>\n",
       "      <td>PC 17609</td>\n",
       "      <td>49.5042</td>\n",
       "      <td>NaN</td>\n",
       "      <td>C</td>\n",
       "      <td>NaN</td>\n",
       "      <td>22.0</td>\n",
       "      <td>Montevideo, Uruguay</td>\n",
       "    </tr>\n",
       "  </tbody>\n",
       "</table>\n",
       "</div>"
      ],
      "text/plain": [
       "   pclass  survived                                             name     sex  \\\n",
       "0       1         1                    Allen, Miss. Elisabeth Walton  female   \n",
       "1       1         1                   Allison, Master. Hudson Trevor    male   \n",
       "2       1         0                     Allison, Miss. Helen Loraine  female   \n",
       "3       1         0             Allison, Mr. Hudson Joshua Creighton    male   \n",
       "4       1         0  Allison, Mrs. Hudson J C (Bessie Waldo Daniels)  female   \n",
       "5       1         1                              Anderson, Mr. Harry    male   \n",
       "6       1         1                Andrews, Miss. Kornelia Theodosia  female   \n",
       "7       1         0                           Andrews, Mr. Thomas Jr    male   \n",
       "8       1         1    Appleton, Mrs. Edward Dale (Charlotte Lamson)  female   \n",
       "9       1         0                          Artagaveytia, Mr. Ramon    male   \n",
       "\n",
       "       age  sibsp  parch    ticket      fare    cabin embarked boat   body  \\\n",
       "0  29.0000      0      0     24160  211.3375       B5        S    2    NaN   \n",
       "1   0.9167      1      2    113781  151.5500  C22 C26        S   11    NaN   \n",
       "2   2.0000      1      2    113781  151.5500  C22 C26        S  NaN    NaN   \n",
       "3  30.0000      1      2    113781  151.5500  C22 C26        S  NaN  135.0   \n",
       "4  25.0000      1      2    113781  151.5500  C22 C26        S  NaN    NaN   \n",
       "5  48.0000      0      0     19952   26.5500      E12        S    3    NaN   \n",
       "6  63.0000      1      0     13502   77.9583       D7        S   10    NaN   \n",
       "7  39.0000      0      0    112050    0.0000      A36        S  NaN    NaN   \n",
       "8  53.0000      2      0     11769   51.4792     C101        S    D    NaN   \n",
       "9  71.0000      0      0  PC 17609   49.5042      NaN        C  NaN   22.0   \n",
       "\n",
       "                         home.dest  \n",
       "0                     St Louis, MO  \n",
       "1  Montreal, PQ / Chesterville, ON  \n",
       "2  Montreal, PQ / Chesterville, ON  \n",
       "3  Montreal, PQ / Chesterville, ON  \n",
       "4  Montreal, PQ / Chesterville, ON  \n",
       "5                     New York, NY  \n",
       "6                       Hudson, NY  \n",
       "7                      Belfast, NI  \n",
       "8              Bayside, Queens, NY  \n",
       "9              Montevideo, Uruguay  "
      ]
     },
     "execution_count": 3,
     "metadata": {},
     "output_type": "execute_result"
    }
   ],
   "source": [
    "data.head(10)"
   ]
  },
  {
   "cell_type": "markdown",
   "metadata": {},
   "source": [
    "說明各欄位的意義：\n",
    "- pclass: 艙等\n",
    "- survived: 生存與否，存活為1\n",
    "- name: 乘客姓名\n",
    "- sex: 乘客性別\n",
    "- age: 乘客年齡\n",
    "- sibsp: 兄弟姊妹+配偶人數 (Sibling aand Spouse)\n",
    "- parch: 父母+子女人數 (Parent and Children)\n",
    "- ticket: 船票編號\n",
    "- fare: 票價\n",
    "- cabin: 船艙號碼\n",
    "- embarked: 出發地\n",
    "- boat: 所乘救生艇的編號\n",
    "- body: 遺體編號 Body Identification Number\n",
    "- home.dest: 家鄉/目的地 (Home/Destination)\n",
    "\n",
    "想知道更詳細的資訊可以參考此網站：http://biostat.mc.vanderbilt.edu/wiki/pub/Main/DataSets/titanic3info.txt"
   ]
  },
  {
   "cell_type": "markdown",
   "metadata": {},
   "source": [
    "## 探索性資料分析 (Explorative Data Analysis, EDA)"
   ]
  },
  {
   "cell_type": "code",
   "execution_count": 4,
   "metadata": {},
   "outputs": [],
   "source": [
    "# A function for getting colors from built-in colormap\n",
    "def get_colors(colormap, n):\n",
    "    color_cood = np.linspace(0, 1, n)\n",
    "    colors = [plt.get_cmap(colormap)(i) for i in color_cood]\n",
    "    return colors"
   ]
  },
  {
   "cell_type": "markdown",
   "metadata": {},
   "source": [
    "#### 應變數 Survived "
   ]
  },
  {
   "cell_type": "code",
   "execution_count": 5,
   "metadata": {},
   "outputs": [
    {
     "data": {
      "image/png": "[encoded data removed]",
      "text/plain": [
       "<Figure size 432x288 with 1 Axes>"
      ]
     },
     "metadata": {
      "needs_background": "light"
     },
     "output_type": "display_data"
    }
   ],
   "source": [
    "survived_count = data.groupby('survived')['name'].count()\n",
    "plt.bar(x =[str(i) for i in survived_count.index],\n",
    "        height = survived_count.values, \n",
    "        color = get_colors('Spectral', 2))\n",
    "for i, val in zip(survived_count.index, survived_count.values):\n",
    "    plt.annotate(str(val),\n",
    "                 xy = (i, val-50),\n",
    "                 horizontalalignment = 'center',\n",
    "                 fontsize = 14,\n",
    "                 color = 'white')\n",
    "plt.title(\"Survived\", fontsize=16)\n",
    "plt.show()"
   ]
  },
  {
   "cell_type": "markdown",
   "metadata": {},
   "source": [
    "#### 自變數 pclass\n",
    "- 各艙等人數：經濟(3) > 頭等(1) > 商務(2)\n",
    "- 較貴的艙等，生存機率較高：頭等艙有優先獲救的可能？"
   ]
  },
  {
   "cell_type": "code",
   "execution_count": 6,
   "metadata": {},
   "outputs": [
    {
     "data": {
      "image/png": "[encoded data removed]",
      "text/plain": [
       "<Figure size 432x288 with 2 Axes>"
      ]
     },
     "metadata": {
      "needs_background": "light"
     },
     "output_type": "display_data"
    }
   ],
   "source": [
    "pclass_count = data.groupby('pclass').size()\n",
    "pclass_survived = data.groupby(['pclass', 'survived']).size()[1::2]\n",
    "pclass_survived_rate = [i/j  for i, j in zip(pclass_survived, pclass_count)]\n",
    "\n",
    "fig, ax = plt.subplots()\n",
    "ax.bar(x =[str(i) for i in pclass_count.index],\n",
    "        height = pclass_count.values,\n",
    "        color = get_colors('tab20b', 3))\n",
    "ax.set_ylabel('Passenger')\n",
    "\n",
    "tcolor = ['white', 'black', 'black']\n",
    "for i, val, c in zip(pclass_count.index, pclass_count.values, tcolor):\n",
    "    plt.annotate(str(val),\n",
    "                 xy = (i-1, val-30),\n",
    "                 horizontalalignment = 'center',\n",
    "                 fontsize = 14,\n",
    "                 color = c)\n",
    "\n",
    "ax2 = ax.twinx()\n",
    "ax2.set_ylabel('Survival Rate')\n",
    "ax2.plot(pclass_survived_rate, marker='o', color='red')\n",
    "for i, val in zip(pclass_count.index, pclass_survived_rate):\n",
    "    ax2.annotate(\"%.2f\"%(val),\n",
    "                 xy = (i-1+0.2, val),\n",
    "                 horizontalalignment = 'center',\n",
    "                 color = 'red')\n",
    "\n",
    "plt.title(\"Pclass\", fontsize=16)\n",
    "plt.show()"
   ]
  },
  {
   "cell_type": "markdown",
   "metadata": {},
   "source": [
    "#### 自變數 name\n",
    "- 為文字資料\n",
    "- 沒有缺失值"
   ]
  },
  {
   "cell_type": "markdown",
   "metadata": {},
   "source": [
    "#### 自變數 sex\n",
    "- 船上乘客：男 > 女\n",
    "- 女性生存比例較大"
   ]
  },
  {
   "cell_type": "code",
   "execution_count": 7,
   "metadata": {},
   "outputs": [
    {
     "data": {
      "image/png": "[encoded data removed]",
      "text/plain": [
       "<Figure size 432x288 with 2 Axes>"
      ]
     },
     "metadata": {
      "needs_background": "light"
     },
     "output_type": "display_data"
    }
   ],
   "source": [
    "sex_count = data.groupby('sex').size()\n",
    "sex_survived = data.groupby(['pclass', 'survived']).size()[1::2]\n",
    "sex_survived_rate = [i/j  for i, j in zip(sex_survived, sex_count)]\n",
    "\n",
    "fig, ax = plt.subplots()\n",
    "ax.bar(x = sex_count.index,\n",
    "       height = sex_count.values,\n",
    "       color = get_colors('tab20b', 3)[0:2])\n",
    "ax.set_ylabel('Passenger')\n",
    "\n",
    "tcolor = ['white', 'black']\n",
    "for i, c in zip(range(len(sex_count.index)), tcolor):\n",
    "    plt.annotate(sex_count.values[i],\n",
    "                 xy = (i, sex_count.values[i]-50),\n",
    "                 horizontalalignment = 'center',\n",
    "                 fontsize = 14,\n",
    "                 color = c)\n",
    "\n",
    "ax2 = ax.twinx()\n",
    "ax2.set_ylabel('Survival Rate')\n",
    "ax2.plot(sex_survived_rate, marker='o', color='red')\n",
    "for i, val in zip(range(len(sex_count.index)), sex_survived_rate):\n",
    "    ax2.annotate(\"%.2f\"%(val),\n",
    "                 xy = (i+0.1, val),\n",
    "                 horizontalalignment = 'center',\n",
    "                 fontsize = 12,\n",
    "                 color ='red')\n",
    "\n",
    "plt.title(\"Sex\", fontsize=16)\n",
    "plt.show()"
   ]
  },
  {
   "cell_type": "markdown",
   "metadata": {},
   "source": [
    "#### 自變數 age\n",
    "- 約有 1/2 的乘客年紀位於 20 ~ 40 歲之間\n",
    "- 缺失值比例約占全部的 1/9\n",
    "- 缺失資料的生存比例較低，但差異不大\n",
    "- 小孩和老年人的生存比例較高"
   ]
  },
  {
   "cell_type": "code",
   "execution_count": 8,
   "metadata": {},
   "outputs": [
    {
     "name": "stderr",
     "output_type": "stream",
     "text": [
      "C:\\Users\\User\\Anaconda3\\lib\\site-packages\\ipykernel_launcher.py:26: SettingWithCopyWarning: \n",
      "A value is trying to be set on a copy of a slice from a DataFrame.\n",
      "Try using .loc[row_indexer,col_indexer] = value instead\n",
      "\n",
      "See the caveats in the documentation: http://pandas.pydata.org/pandas-docs/stable/indexing.html#indexing-view-versus-copy\n",
      "C:\\Users\\User\\Anaconda3\\lib\\site-packages\\ipykernel_launcher.py:45: RuntimeWarning: invalid value encountered in double_scalars\n"
     ]
    },
    {
     "data": {
      "image/png": "[encoded data removed]",
      "text/plain": [
       "<Figure size 1440x576 with 5 Axes>"
      ]
     },
     "metadata": {
      "needs_background": "light"
     },
     "output_type": "display_data"
    }
   ],
   "source": [
    "age = data['age']\n",
    "age = age.fillna(-10) # since there are NaNs in age column\n",
    "fig, ax = plt.subplots(2, 2, figsize=(20, 8))\n",
    "\n",
    "# Upper-left\n",
    "(n1, bins, patches) = ax[0,0].hist(data['age'].fillna(-10), bins=np.linspace(-20,100,25))\n",
    "(n2, bins, patches) = ax[0,0].hist(data[data.survived==1]['age'].fillna(-10), bins=np.linspace(-20,100,25))\n",
    "ax[0, 0].legend(labels=('age_count', 'age_survived_count'))\n",
    "ax[0, 0].set_title(\"Age Distribution\", fontsize=16) \n",
    "\n",
    "# Upper-right\n",
    "## bar chart\n",
    "age_Na_notNA = [len(age[age>0]), 1000-len(age[age>0])]\n",
    "ax[0, 1].bar(x=['Non-ommited', 'Ommited'], height=age_Na_notNA, color=get_colors('tab20b', 3)[0:2])\n",
    "tcolor = ['white', 'black']\n",
    "for i in range(len(age_Na_notNA)):\n",
    "    ax[0, 1].annotate(age_Na_notNA[i],\n",
    "                      xy=(i, age_Na_notNA[i]-75),\n",
    "                      horizontalalignment='center',\n",
    "                      fontsize=14, color=tcolor[i])\n",
    "ax[0, 1].set_ylabel('Passengers')\n",
    "ax[0, 1].set_title(\"Age's Omitted Values\", fontsize=16)\n",
    "\n",
    "## line plot\n",
    "age_survived = data[['age', 'survived']]\n",
    "age_survived['age_na'] = age_survived['age'].apply(lambda x: np.isnan(x))\n",
    "age_survived.groupby(['survived', 'age_na']).size()\n",
    "age_na_survived_rate = [i/j  for i, j in zip(age_survived.groupby(['survived', 'age_na']).size()[[1, 3]],\n",
    "                                            age_survived.groupby('survived').size())]\n",
    "ax2 = ax[0, 1].twinx()\n",
    "ax2.set_ylabel('Survival Rate')\n",
    "ax2.plot(age_na_survived_rate, marker='o', color='red')\n",
    "for i, val in zip(range(2), age_na_survived_rate):\n",
    "    ax2.annotate(\"%.2f\"%(val),\n",
    "                 xy = (i+0.2, val-0.002),\n",
    "                 horizontalalignment = 'center',\n",
    "                 fontsize = 16,\n",
    "                 color = 'red')\n",
    "\n",
    "# Lower-left\n",
    "sns.boxplot(age[age>0], ax=ax[1, 0])\n",
    "ax[1, 0].set_title(\"Age Boxplot\", fontsize=16) \n",
    "\n",
    "# Lower-Right\n",
    "age_survival_rate = [i/j if not np.isnan(i/j) else -0.01 for i, j in zip(n2, n1)] # -1 for no data exists\n",
    "ax[1, 1].bar(x =  [\"%d\"%(i) for i in np.linspace(-20,100,25)][0:-1],\n",
    "             height = age_survival_rate,\n",
    "             color = 'green')\n",
    "ax[1, 1].set_title(\"Age Survival Rate\", fontsize=16)\n",
    "\n",
    "plt.show()"
   ]
  },
  {
   "cell_type": "markdown",
   "metadata": {},
   "source": [
    "#### 自變數 sibsp\n",
    "- sibsp 由少而多人數逐漸減少\n",
    "- 單身與 sibsp>=4 存活比例較低"
   ]
  },
  {
   "cell_type": "code",
   "execution_count": 9,
   "metadata": {},
   "outputs": [
    {
     "data": {
      "image/png": "[encoded data removed]",
      "text/plain": [
       "<Figure size 864x288 with 2 Axes>"
      ]
     },
     "metadata": {
      "needs_background": "light"
     },
     "output_type": "display_data"
    }
   ],
   "source": [
    "fig, ax=plt.subplots(1, 2, figsize=(12,4))\n",
    "\n",
    "# Left\n",
    "(n1, bins, patches) = ax[0].hist(data['sibsp'],\n",
    "                                 bins=range(max(data['sibsp'])+2),\n",
    "                                 width=0.5)\n",
    "(n2, bins, patches) = ax[0].hist(data[data.survived==1]['sibsp'],\n",
    "                                 bins=range(max(data['sibsp'])+2),\n",
    "                                 width=0.5)\n",
    "ax[0].legend(labels=['sibsp', 'sibsp survived'])\n",
    "ax[0].set_title('sibsp Distribution')\n",
    "\n",
    "# Right\n",
    "sibsp_survival_rate = [i/j if not np.isnan(i/j) else -0.01 for i,j in zip(n2, n1)]\n",
    "ax[1].bar(x = range(max(data['sibsp'])+1),\n",
    "          height = sibsp_survival_rate,\n",
    "          color = 'green')\n",
    "\n",
    "plt.show()"
   ]
  },
  {
   "cell_type": "markdown",
   "metadata": {},
   "source": [
    "#### 自變數 parch\n",
    "- parch 由少而多人數遞減\n",
    "- parch=0 和 parch>=4 存活比例低"
   ]
  },
  {
   "cell_type": "code",
   "execution_count": 10,
   "metadata": {},
   "outputs": [
    {
     "data": {
      "image/png": "[encoded data removed]",
      "text/plain": [
       "<Figure size 864x288 with 2 Axes>"
      ]
     },
     "metadata": {
      "needs_background": "light"
     },
     "output_type": "display_data"
    }
   ],
   "source": [
    "fig, ax=plt.subplots(1, 2, figsize=(12,4))\n",
    "\n",
    "# Left\n",
    "(n1, bins, patches) = ax[0].hist(data['parch'],\n",
    "                                 bins=range(max(data['parch'])+2),\n",
    "                                 width=0.5)\n",
    "(n2, bins, patches) = ax[0].hist(data[data.survived==1]['parch'],\n",
    "                                 bins=range(max(data['parch'])+2),\n",
    "                                 width=0.5)\n",
    "ax[0].legend(labels=['parch', 'parch survived'])\n",
    "ax[0].set_title('parch Distribution')\n",
    "\n",
    "# Right\n",
    "parch_survival_rate = [i/j if not np.isnan(i/j) else -0.01 for i,j in zip(n2, n1)]\n",
    "ax[1].bar(x = range(max(data['parch'])+1),\n",
    "          height = parch_survival_rate,\n",
    "          color = 'green')\n",
    "\n",
    "plt.show()"
   ]
  },
  {
   "cell_type": "markdown",
   "metadata": {},
   "source": [
    "#### 自變數 ticket\n",
    "- 文字資料\n",
    "- 無缺失值"
   ]
  },
  {
   "cell_type": "markdown",
   "metadata": {},
   "source": [
    "#### 自變數 fare\n",
    "- 低價的船票較多，但生存比例明顯較低\n",
    "- 看起來和艙等的結論差不多"
   ]
  },
  {
   "cell_type": "code",
   "execution_count": 11,
   "metadata": {},
   "outputs": [
    {
     "data": {
      "image/png": "[encoded data removed]",
      "text/plain": [
       "<Figure size 864x288 with 2 Axes>"
      ]
     },
     "metadata": {
      "needs_background": "light"
     },
     "output_type": "display_data"
    }
   ],
   "source": [
    "fig, ax = plt.subplots(1, 2, figsize=(12, 4))\n",
    "\n",
    "ax[0].hist(x=data['fare'], bins=50)\n",
    "ax[0].hist(x=data[data.survived==1]['fare'], bins=50)\n",
    "ax[0].legend(labels=['fare', 'fare_survived'])\n",
    "ax[0].set_title('Fare Distribution', fontsize=16)\n",
    "\n",
    "ax[1] = sns.boxplot(data['fare'], labels=['Fare'])\n",
    "ax[1].set_title('Fare Boxplot', fontsize=16)\n",
    "\n",
    "plt.show()"
   ]
  },
  {
   "cell_type": "markdown",
   "metadata": {},
   "source": [
    "#### 自變數 cabin\n",
    "- 缺失資料生存比例較低：\n",
    "    - 死亡人口較難回溯資料？\n",
    "    - 抑或有逃票的可能性？"
   ]
  },
  {
   "cell_type": "code",
   "execution_count": 12,
   "metadata": {},
   "outputs": [
    {
     "name": "stderr",
     "output_type": "stream",
     "text": [
      "C:\\Users\\User\\Anaconda3\\lib\\site-packages\\ipykernel_launcher.py:3: SettingWithCopyWarning: \n",
      "A value is trying to be set on a copy of a slice from a DataFrame.\n",
      "Try using .loc[row_indexer,col_indexer] = value instead\n",
      "\n",
      "See the caveats in the documentation: http://pandas.pydata.org/pandas-docs/stable/indexing.html#indexing-view-versus-copy\n",
      "  This is separate from the ipykernel package so we can avoid doing imports until\n"
     ]
    },
    {
     "data": {
      "image/png": "[encoded data removed]",
      "text/plain": [
       "<Figure size 432x288 with 2 Axes>"
      ]
     },
     "metadata": {
      "needs_background": "light"
     },
     "output_type": "display_data"
    }
   ],
   "source": [
    "cabin_NA_notNA = [len(data[data.cabin.isna()]), len(data[data.cabin.notna()])]\n",
    "cabin_survived = data[['cabin', 'survived']]\n",
    "cabin_survived['na'] = pd.isnull(cabin_survived['cabin'])\n",
    "cabin_survived_rate = [i/j for i, j in zip(cabin_survived.groupby(['na', 'survived']).size()[[3,1]],\n",
    "                                           cabin_NA_notNA)]\n",
    "fig, ax = plt.subplots(figsize=(6, 4))\n",
    "\n",
    "# bar chart\n",
    "ax.bar(x = ['Omitted', 'Not Omitted'],\n",
    "       height = cabin_NA_notNA,\n",
    "       color = get_colors('tab20b', 3)[0:2])\n",
    "ax.set_ylabel('Passengers')\n",
    "tcolor = ['white', 'black']\n",
    "for i in range(len(cabin_NA_notNA)):\n",
    "    ax.annotate(str(cabin_NA_notNA[i]),\n",
    "                xy=(i, cabin_NA_notNA[i]-75),\n",
    "                horizontalalignment = 'center',\n",
    "                fontsize = 16,\n",
    "                color = tcolor[i])\n",
    "ax.set_title('Cabin NA vs non-NA', fontsize=16)\n",
    "\n",
    "# line    \n",
    "ax2 = ax.twinx()\n",
    "ax2.plot(cabin_survived_rate, color='red', marker='o')\n",
    "ax2.set_ylabel('Survival Rate')\n",
    "for i in range(len(cabin_survived_rate)):\n",
    "    ax2.annotate(\"%.2f\"%(cabin_survived_rate[i]),\n",
    "                 xy = (i+0.15, cabin_survived_rate[i]-0.01),\n",
    "                 horizontalalignment = 'center',\n",
    "                 fontsize = 14,\n",
    "                 color = 'red')\n",
    "plt.show()"
   ]
  },
  {
   "cell_type": "markdown",
   "metadata": {},
   "source": [
    "#### 自變數 embark\n",
    "- 從 S 地出發人數最多，其次是 C 地，最後為 Q 地\n",
    "- 存活比率：C > S > Q\n",
    "- 有少數二個遺漏值，或許可以試著補上去？"
   ]
  },
  {
   "cell_type": "code",
   "execution_count": 13,
   "metadata": {},
   "outputs": [
    {
     "data": {
      "image/png": "[encoded data removed]",
      "text/plain": [
       "<Figure size 1152x288 with 3 Axes>"
      ]
     },
     "metadata": {
      "needs_background": "light"
     },
     "output_type": "display_data"
    }
   ],
   "source": [
    "embarked_count = data.groupby('embarked')['survived'].count()\n",
    "fig, ax = plt.subplots(1, 2, figsize=(16, 4))\n",
    "\n",
    "ax[0].bar(x =[str(i) for i in embarked_count.index],\n",
    "        height = embarked_count.values,\n",
    "        color = get_colors('tab20b', 3))\n",
    "tcolor = ['white', 'black', 'black']\n",
    "for i, val, c in zip(embarked_count.index, embarked_count.values, tcolor):\n",
    "    ax[0].annotate(str(val),\n",
    "                 xy = (i, val-50),\n",
    "                 horizontalalignment = 'center',\n",
    "                 fontsize = 14,\n",
    "                 color = c)\n",
    "ax[0].set_ylabel(\"Passengers\")\n",
    "ax[0].set_title(\"Embarked\", fontsize=16)\n",
    "\n",
    "ax2 = ax[0].twinx()\n",
    "embarked_survived_count = data.groupby(['embarked', 'survived']).size()[[1, 3, 5]]\n",
    "embarked_survived_rate = [i/j for i, j in zip(embarked_survived_count, embarked_count)]\n",
    "ax2.plot(embarked_survived_rate, color='red', marker='o')\n",
    "ax2.set_ylabel(\"Survival Rate\")\n",
    "for i in range(3):\n",
    "    ax2.annotate(\"%.2f\"%(embarked_survived_rate[i]),\n",
    "                xy = (i+0.2, embarked_survived_rate[i]),\n",
    "                color = 'red',\n",
    "                horizontalalignment = 'center',\n",
    "                fontsize = 14)\n",
    "\n",
    "\n",
    "embarked_Na_notNA = [len(data[data['embarked'].notna()]), len(data[data['embarked'].isna()])]\n",
    "ax[1].bar(x=['Non-ommited', 'Ommited'],\n",
    "          height=embarked_Na_notNA,\n",
    "          color=get_colors('Spectral', 2))\n",
    "ax[1].annotate(str(embarked_Na_notNA[0]), xy=(0, embarked_Na_notNA[0]-75), horizontalalignment='center', fontsize=14, color='white')\n",
    "ax[1].annotate(str(embarked_Na_notNA[1]), xy=(1, embarked_Na_notNA[1]+50), horizontalalignment='center', fontsize=14)\n",
    "ax[1].set_title(\"Embarked Ommited Values\", fontsize=16)\n",
    "plt.show()"
   ]
  },
  {
   "cell_type": "markdown",
   "metadata": {},
   "source": [
    "#### 自變數 boat\n",
    "- 有救生艇紀錄的人和沒有救生艇記錄的人大概一半一半\n",
    "- 有救生艇記錄的人存活比率顯著提高：搭救生艇基本上就能活下來，沒搭的基本上都死了\n",
    "- **關鍵 Feature**"
   ]
  },
  {
   "cell_type": "code",
   "execution_count": 14,
   "metadata": {},
   "outputs": [
    {
     "name": "stderr",
     "output_type": "stream",
     "text": [
      "C:\\Users\\User\\Anaconda3\\lib\\site-packages\\ipykernel_launcher.py:3: SettingWithCopyWarning: \n",
      "A value is trying to be set on a copy of a slice from a DataFrame.\n",
      "Try using .loc[row_indexer,col_indexer] = value instead\n",
      "\n",
      "See the caveats in the documentation: http://pandas.pydata.org/pandas-docs/stable/indexing.html#indexing-view-versus-copy\n",
      "  This is separate from the ipykernel package so we can avoid doing imports until\n"
     ]
    },
    {
     "data": {
      "image/png": "[encoded data removed]",
      "text/plain": [
       "<Figure size 432x288 with 2 Axes>"
      ]
     },
     "metadata": {
      "needs_background": "light"
     },
     "output_type": "display_data"
    }
   ],
   "source": [
    "boat_NA_notNA = [len(data[data.boat.isna()]), len(data[data.boat.notna()])]\n",
    "boat_survived = data[['boat', 'survived']]\n",
    "boat_survived['na'] = pd.isnull(boat_survived['boat'])\n",
    "boat_survived_rate = [i/j for i, j in zip(boat_survived.groupby(['na', 'survived']).size()[[3,1]],\n",
    "                                           boat_NA_notNA)]\n",
    "fig, ax = plt.subplots(figsize=(6, 4))\n",
    "\n",
    "# bar chart\n",
    "ax.bar(x = ['Omitted', 'Not Omitted'],\n",
    "       height = boat_NA_notNA,\n",
    "       color = get_colors('tab20b', 3)[0:2])\n",
    "ax.set_ylabel('Passengers')\n",
    "tcolor = ['white', 'black']\n",
    "for i in range(len(boat_NA_notNA)):\n",
    "    ax.annotate(str(boat_NA_notNA[i]),\n",
    "                xy=(i, boat_NA_notNA[i]-75),\n",
    "                horizontalalignment = 'center',\n",
    "                fontsize = 16,\n",
    "                color = tcolor[i])\n",
    "ax.set_title('boat NA vs non-NA', fontsize=16)\n",
    "\n",
    "# line    \n",
    "ax2 = ax.twinx()\n",
    "ax2.plot(boat_survived_rate, color='red', marker='o')\n",
    "ax2.set_ylabel('Survival Rate')\n",
    "for i in range(len(boat_survived_rate)):\n",
    "    ax2.annotate(\"%.2f\"%(boat_survived_rate[i]),\n",
    "                 xy = (i+0.15, boat_survived_rate[i]-0.01),\n",
    "                 horizontalalignment = 'center',\n",
    "                 fontsize = 14,\n",
    "                 color = 'red')\n",
    "plt.show()"
   ]
  },
  {
   "cell_type": "markdown",
   "metadata": {},
   "source": [
    "#### 自變數 body\n",
    "- 找到遺體的乘客都已經死了\n",
    "- 沒有遺體紀錄的乘客，存活機率大概1/2：機率基本上跟用猜的一樣"
   ]
  },
  {
   "cell_type": "code",
   "execution_count": 15,
   "metadata": {},
   "outputs": [
    {
     "name": "stderr",
     "output_type": "stream",
     "text": [
      "C:\\Users\\User\\Anaconda3\\lib\\site-packages\\ipykernel_launcher.py:3: SettingWithCopyWarning: \n",
      "A value is trying to be set on a copy of a slice from a DataFrame.\n",
      "Try using .loc[row_indexer,col_indexer] = value instead\n",
      "\n",
      "See the caveats in the documentation: http://pandas.pydata.org/pandas-docs/stable/indexing.html#indexing-view-versus-copy\n",
      "  This is separate from the ipykernel package so we can avoid doing imports until\n"
     ]
    },
    {
     "data": {
      "image/png": "[encoded data removed]",
      "text/plain": [
       "<Figure size 432x288 with 2 Axes>"
      ]
     },
     "metadata": {
      "needs_background": "light"
     },
     "output_type": "display_data"
    }
   ],
   "source": [
    "body_NA_notNA = [len(data[data.body.isna()]), len(data[data.body.notna()])]\n",
    "body_survived = data[['body', 'survived']]\n",
    "body_survived['na'] = pd.isnull(body_survived['body'])\n",
    "body_survived_rate = [i/j for i, j in zip([body_survived.groupby(['na', 'survived']).size()[2], 0], # manually set the value 0\n",
    "                                           body_NA_notNA)]\n",
    "fig, ax = plt.subplots(figsize=(6, 4))\n",
    "\n",
    "# bar chart\n",
    "ax.bar(x = ['Omitted', 'Not Omitted'],\n",
    "       height = body_NA_notNA,\n",
    "       color = get_colors('tab20b', 3)[0:2])\n",
    "ax.set_ylabel('Passengers')\n",
    "tcolor = ['white', 'black']\n",
    "for i in range(len(body_NA_notNA)):\n",
    "    ax.annotate(str(body_NA_notNA[i]),\n",
    "                xy=(i, body_NA_notNA[i]-75),\n",
    "                horizontalalignment = 'center',\n",
    "                fontsize = 16,\n",
    "                color = tcolor[i])\n",
    "ax.set_title('body NA vs non-NA', fontsize=16)\n",
    "\n",
    "# line    \n",
    "ax2 = ax.twinx()\n",
    "ax2.plot(body_survived_rate, color='red', marker='o')\n",
    "ax2.set_ylabel('Survival Rate')\n",
    "for i in range(len(body_survived_rate)):\n",
    "    ax2.annotate(\"%.2f\"%(body_survived_rate[i]),\n",
    "                 xy = (i+0.15, body_survived_rate[i]-0.01),\n",
    "                 horizontalalignment = 'center',\n",
    "                 fontsize = 14,\n",
    "                 color = 'red')\n",
    "plt.show()"
   ]
  },
  {
   "cell_type": "markdown",
   "metadata": {},
   "source": [
    "#### 自變數 homedest\n",
    "- 有 home.dest 紀錄的乘客，存活機率1/2\n",
    "- 沒有紀錄的乘客，存活機率顯著降低"
   ]
  },
  {
   "cell_type": "code",
   "execution_count": 16,
   "metadata": {},
   "outputs": [
    {
     "name": "stderr",
     "output_type": "stream",
     "text": [
      "C:\\Users\\User\\Anaconda3\\lib\\site-packages\\ipykernel_launcher.py:3: SettingWithCopyWarning: \n",
      "A value is trying to be set on a copy of a slice from a DataFrame.\n",
      "Try using .loc[row_indexer,col_indexer] = value instead\n",
      "\n",
      "See the caveats in the documentation: http://pandas.pydata.org/pandas-docs/stable/indexing.html#indexing-view-versus-copy\n",
      "  This is separate from the ipykernel package so we can avoid doing imports until\n"
     ]
    },
    {
     "data": {
      "image/png": "[encoded data removed]",
      "text/plain": [
       "<Figure size 432x288 with 2 Axes>"
      ]
     },
     "metadata": {
      "needs_background": "light"
     },
     "output_type": "display_data"
    }
   ],
   "source": [
    "homedest_NA_notNA = [len(data[data['home.dest'].isna()]), len(data[data['home.dest'].notna()])]\n",
    "homedest_survived = data[['home.dest', 'survived']]\n",
    "homedest_survived['na'] = pd.isnull(homedest_survived['home.dest'])\n",
    "homedest_survived_rate = [i/j for i, j in zip(homedest_survived.groupby(['na', 'survived']).size()[[3,1]],\n",
    "                                           homedest_NA_notNA)]\n",
    "fig, ax = plt.subplots(figsize=(6, 4))\n",
    "\n",
    "# bar chart\n",
    "ax.bar(x = ['Omitted', 'Not Omitted'],\n",
    "       height = homedest_NA_notNA,\n",
    "       color = get_colors('tab20b', 3)[0:2])\n",
    "ax.set_ylabel('Passengers')\n",
    "tcolor = ['white', 'black']\n",
    "for i in range(len(homedest_NA_notNA)):\n",
    "    ax.annotate(str(homedest_NA_notNA[i]),\n",
    "                xy=(i, homedest_NA_notNA[i]-75),\n",
    "                horizontalalignment = 'center',\n",
    "                fontsize = 16,\n",
    "                color = tcolor[i])\n",
    "ax.set_title('home.dest NA vs non-NA', fontsize=16)\n",
    "\n",
    "# line    \n",
    "ax2 = ax.twinx()\n",
    "ax2.plot(homedest_survived_rate, color='red', marker='o')\n",
    "ax2.set_ylabel('Survival Rate')\n",
    "for i in range(len(homedest_survived_rate)):\n",
    "    ax2.annotate(\"%.2f\"%(homedest_survived_rate[i]),\n",
    "                 xy = (i+0.15, homedest_survived_rate[i]),\n",
    "                 horizontalalignment = 'center',\n",
    "                 fontsize = 14,\n",
    "                 color = 'red')\n",
    "plt.show()"
   ]
  },
  {
   "cell_type": "markdown",
   "metadata": {},
   "source": [
    "### 數據處理"
   ]
  },
  {
   "cell_type": "markdown",
   "metadata": {},
   "source": [
    "#### 1. 填補 embarked 的缺失值"
   ]
  },
  {
   "cell_type": "code",
   "execution_count": 17,
   "metadata": {},
   "outputs": [
    {
     "data": {
      "text/html": [
       "<div>\n",
       "<style scoped>\n",
       "    .dataframe tbody tr th:only-of-type {\n",
       "        vertical-align: middle;\n",
       "    }\n",
       "\n",
       "    .dataframe tbody tr th {\n",
       "        vertical-align: top;\n",
       "    }\n",
       "\n",
       "    .dataframe thead th {\n",
       "        text-align: right;\n",
       "    }\n",
       "</style>\n",
       "<table border=\"1\" class=\"dataframe\">\n",
       "  <thead>\n",
       "    <tr style=\"text-align: right;\">\n",
       "      <th></th>\n",
       "      <th>pclass</th>\n",
       "      <th>survived</th>\n",
       "      <th>name</th>\n",
       "      <th>sex</th>\n",
       "      <th>age</th>\n",
       "      <th>sibsp</th>\n",
       "      <th>parch</th>\n",
       "      <th>ticket</th>\n",
       "      <th>fare</th>\n",
       "      <th>cabin</th>\n",
       "      <th>embarked</th>\n",
       "      <th>boat</th>\n",
       "      <th>body</th>\n",
       "      <th>home.dest</th>\n",
       "    </tr>\n",
       "  </thead>\n",
       "  <tbody>\n",
       "    <tr>\n",
       "      <th>168</th>\n",
       "      <td>1</td>\n",
       "      <td>1</td>\n",
       "      <td>Icard, Miss. Amelie</td>\n",
       "      <td>female</td>\n",
       "      <td>38.0</td>\n",
       "      <td>0</td>\n",
       "      <td>0</td>\n",
       "      <td>113572</td>\n",
       "      <td>80.0</td>\n",
       "      <td>B28</td>\n",
       "      <td>NaN</td>\n",
       "      <td>6</td>\n",
       "      <td>NaN</td>\n",
       "      <td>NaN</td>\n",
       "    </tr>\n",
       "    <tr>\n",
       "      <th>284</th>\n",
       "      <td>1</td>\n",
       "      <td>1</td>\n",
       "      <td>Stone, Mrs. George Nelson (Martha Evelyn)</td>\n",
       "      <td>female</td>\n",
       "      <td>62.0</td>\n",
       "      <td>0</td>\n",
       "      <td>0</td>\n",
       "      <td>113572</td>\n",
       "      <td>80.0</td>\n",
       "      <td>B28</td>\n",
       "      <td>NaN</td>\n",
       "      <td>6</td>\n",
       "      <td>NaN</td>\n",
       "      <td>Cincinatti, OH</td>\n",
       "    </tr>\n",
       "  </tbody>\n",
       "</table>\n",
       "</div>"
      ],
      "text/plain": [
       "     pclass  survived                                       name     sex  \\\n",
       "168       1         1                        Icard, Miss. Amelie  female   \n",
       "284       1         1  Stone, Mrs. George Nelson (Martha Evelyn)  female   \n",
       "\n",
       "      age  sibsp  parch  ticket  fare cabin embarked boat  body  \\\n",
       "168  38.0      0      0  113572  80.0   B28      NaN    6   NaN   \n",
       "284  62.0      0      0  113572  80.0   B28      NaN    6   NaN   \n",
       "\n",
       "          home.dest  \n",
       "168             NaN  \n",
       "284  Cincinatti, OH  "
      ]
     },
     "execution_count": 17,
     "metadata": {},
     "output_type": "execute_result"
    }
   ],
   "source": [
    "data[data.embarked.isna()]"
   ]
  },
  {
   "cell_type": "code",
   "execution_count": 18,
   "metadata": {},
   "outputs": [
    {
     "data": {
      "text/plain": [
       "sex     pclass  embarked\n",
       "female  1       C            71\n",
       "                Q             2\n",
       "                S            69\n",
       "        2       C            11\n",
       "                Q             2\n",
       "                S            93\n",
       "        3       C            16\n",
       "                Q            30\n",
       "                S            75\n",
       "male    1       C            70\n",
       "                Q             1\n",
       "                S           108\n",
       "        2       C            17\n",
       "                Q             5\n",
       "                S           149\n",
       "        3       C            39\n",
       "                Q            31\n",
       "                S           209\n",
       "dtype: int64"
      ]
     },
     "execution_count": 18,
     "metadata": {},
     "output_type": "execute_result"
    }
   ],
   "source": [
    "data.groupby(['sex', 'pclass', 'embarked']).size()"
   ]
  },
  {
   "cell_type": "code",
   "execution_count": 19,
   "metadata": {},
   "outputs": [
    {
     "data": {
      "text/html": [
       "<div>\n",
       "<style scoped>\n",
       "    .dataframe tbody tr th:only-of-type {\n",
       "        vertical-align: middle;\n",
       "    }\n",
       "\n",
       "    .dataframe tbody tr th {\n",
       "        vertical-align: top;\n",
       "    }\n",
       "\n",
       "    .dataframe thead th {\n",
       "        text-align: right;\n",
       "    }\n",
       "</style>\n",
       "<table border=\"1\" class=\"dataframe\">\n",
       "  <thead>\n",
       "    <tr style=\"text-align: right;\">\n",
       "      <th></th>\n",
       "      <th>pclass</th>\n",
       "      <th>survived</th>\n",
       "      <th>name</th>\n",
       "      <th>sex</th>\n",
       "      <th>age</th>\n",
       "      <th>sibsp</th>\n",
       "      <th>parch</th>\n",
       "      <th>ticket</th>\n",
       "      <th>fare</th>\n",
       "      <th>cabin</th>\n",
       "      <th>embarked</th>\n",
       "      <th>boat</th>\n",
       "      <th>body</th>\n",
       "      <th>home.dest</th>\n",
       "    </tr>\n",
       "  </thead>\n",
       "  <tbody>\n",
       "    <tr>\n",
       "      <th>168</th>\n",
       "      <td>1</td>\n",
       "      <td>1</td>\n",
       "      <td>Icard, Miss. Amelie</td>\n",
       "      <td>female</td>\n",
       "      <td>38.0</td>\n",
       "      <td>0</td>\n",
       "      <td>0</td>\n",
       "      <td>113572</td>\n",
       "      <td>80.0</td>\n",
       "      <td>B28</td>\n",
       "      <td>C</td>\n",
       "      <td>6</td>\n",
       "      <td>NaN</td>\n",
       "      <td>NaN</td>\n",
       "    </tr>\n",
       "    <tr>\n",
       "      <th>284</th>\n",
       "      <td>1</td>\n",
       "      <td>1</td>\n",
       "      <td>Stone, Mrs. George Nelson (Martha Evelyn)</td>\n",
       "      <td>female</td>\n",
       "      <td>62.0</td>\n",
       "      <td>0</td>\n",
       "      <td>0</td>\n",
       "      <td>113572</td>\n",
       "      <td>80.0</td>\n",
       "      <td>B28</td>\n",
       "      <td>C</td>\n",
       "      <td>6</td>\n",
       "      <td>NaN</td>\n",
       "      <td>Cincinatti, OH</td>\n",
       "    </tr>\n",
       "  </tbody>\n",
       "</table>\n",
       "</div>"
      ],
      "text/plain": [
       "     pclass  survived                                       name     sex  \\\n",
       "168       1         1                        Icard, Miss. Amelie  female   \n",
       "284       1         1  Stone, Mrs. George Nelson (Martha Evelyn)  female   \n",
       "\n",
       "      age  sibsp  parch  ticket  fare cabin embarked boat  body  \\\n",
       "168  38.0      0      0  113572  80.0   B28        C    6   NaN   \n",
       "284  62.0      0      0  113572  80.0   B28        C    6   NaN   \n",
       "\n",
       "          home.dest  \n",
       "168             NaN  \n",
       "284  Cincinatti, OH  "
      ]
     },
     "execution_count": 19,
     "metadata": {},
     "output_type": "execute_result"
    }
   ],
   "source": [
    "data.loc[[168, 284], 'embarked'] = 'C'\n",
    "data.iloc[[168, 284]]"
   ]
  },
  {
   "cell_type": "markdown",
   "metadata": {},
   "source": [
    "#### 2. 其他變數處理"
   ]
  },
  {
   "cell_type": "code",
   "execution_count": 20,
   "metadata": {},
   "outputs": [
    {
     "name": "stderr",
     "output_type": "stream",
     "text": [
      "C:\\Users\\User\\Anaconda3\\lib\\site-packages\\sklearn\\utils\\validation.py:475: DataConversionWarning: Data with input dtype int64 was converted to float64 by MinMaxScaler.\n",
      "  warnings.warn(msg, DataConversionWarning)\n"
     ]
    }
   ],
   "source": [
    "original_col = data.columns\n",
    "\n",
    "# Add pclass Dummies\n",
    "data['First_class'] = data['pclass'].map({1:1, 2:0, 3:0}).astype('int')\n",
    "data['Second_class'] = data['pclass'].map({1:0, 2:1, 3:0}).astype('int')\n",
    "\n",
    "# Add Sex Dummies\n",
    "data['Male'] = data['sex'].map({'male':1, 'female':0}).astype('int')\n",
    "\n",
    "# Add Age Categories\n",
    "data['age'].fillna(-5) # deal with omitting values\n",
    "for i in np.linspace(0, 85, 18)[::-1]:\n",
    "    data['Age_%d_%d'%(i-5, i)] = data['age'].apply(lambda x: int(i-5 <= x < i))\n",
    "\n",
    "# Add FamilyNum Feature and Normalize it\n",
    "from sklearn.preprocessing import MinMaxScaler\n",
    "data['FamilyNum'] = data['sibsp'] + data['parch']\n",
    "scaler = MinMaxScaler()\n",
    "familynum = data['FamilyNum'].values[np.newaxis].T\n",
    "scaler.fit(familynum)\n",
    "data['FamilyNum'] = scaler.transform(familynum)\n",
    "\n",
    "# Add Normalized Fare\n",
    "fare = data['fare'].values[np.newaxis].T\n",
    "scaler.fit(fare)\n",
    "data['Fare'] = scaler.transform(fare)\n",
    "\n",
    "# Add Cabin Omitting Dummies\n",
    "data['NA_cabin'] = pd.isnull(data['cabin']).astype('int')\n",
    "\n",
    "# Add Embarked Dummies\n",
    "data = pd.concat([data, pd.get_dummies(data['embarked'], prefix='Embarked')], axis=1)\n",
    "\n",
    "# Add boat Omitting Dummies\n",
    "data['NA_boat'] = pd.isnull(data['boat']).astype('int')\n",
    "\n",
    "# Add body Omitting Dummies\n",
    "data['NA_body'] = pd.isnull(data['body']).astype('int')\n",
    "\n",
    "# Add home.dest Omitting Dummies\n",
    "data['NA_homedest'] = pd.isnull(data['home.dest']).astype('int')"
   ]
  },
  {
   "cell_type": "markdown",
   "metadata": {},
   "source": [
    "### 開始使用 SVM\n",
    "終於走到了這一步"
   ]
  },
  {
   "cell_type": "code",
   "execution_count": 21,
   "metadata": {},
   "outputs": [],
   "source": [
    "X = data.drop(original_col, axis=1)\n",
    "Y = data['survived']\n",
    "\n",
    "from sklearn.model_selection import train_test_split\n",
    "X_train, X_test, Y_train, Y_test = train_test_split(X, Y, test_size = 0.33)"
   ]
  },
  {
   "cell_type": "code",
   "execution_count": 22,
   "metadata": {},
   "outputs": [
    {
     "name": "stdout",
     "output_type": "stream",
     "text": [
      "(670, 30)\n",
      "(330, 30)\n"
     ]
    }
   ],
   "source": [
    "print(X_train.shape)\n",
    "print(X_test.shape)"
   ]
  },
  {
   "cell_type": "code",
   "execution_count": 23,
   "metadata": {},
   "outputs": [
    {
     "name": "stdout",
     "output_type": "stream",
     "text": [
      "CV Accuracy: 0.98 (+/- 0.01)\n"
     ]
    }
   ],
   "source": [
    "from sklearn.svm import SVC\n",
    "from sklearn.model_selection import cross_val_score\n",
    "clf = SVC(kernel='linear', C=1)\n",
    "scores = cross_val_score(clf, X_train, Y_train, cv=5)\n",
    "print(\"CV Accuracy: %0.2f (+/- %0.2f)\" % (scores.mean(), scores.std() * 2))"
   ]
  },
  {
   "cell_type": "code",
   "execution_count": 24,
   "metadata": {},
   "outputs": [
    {
     "name": "stdout",
     "output_type": "stream",
     "text": [
      "Test Accuracy:  0.9787878787878788\n"
     ]
    }
   ],
   "source": [
    "from sklearn.metrics import accuracy_score\n",
    "clf.fit(X_test, Y_test)\n",
    "print(\"Test Accuracy: \", accuracy_score(clf.predict(X_test), Y_test))"
   ]
  },
  {
   "cell_type": "markdown",
   "metadata": {},
   "source": [
    "哇，這樣好像很厲害！！\n",
    "\n",
    "但是如果我們把關鍵的特徵：救生艇拿出來直接算準確率時..."
   ]
  },
  {
   "cell_type": "code",
   "execution_count": 25,
   "metadata": {},
   "outputs": [
    {
     "name": "stdout",
     "output_type": "stream",
     "text": [
      "Test Accuracy:  0.9787878787878788\n"
     ]
    }
   ],
   "source": [
    "print(\"Test Accuracy: \", accuracy_score(1-X_test['NA_boat'], Y_test))"
   ]
  },
  {
   "cell_type": "markdown",
   "metadata": {},
   "source": [
    "其他的特徵根本都在划水啊！！\n",
    "\n",
    "也許更深入、細緻的特徵工程可以再拉高目前的準確率，但是就目前的進度而言，上救生艇與否這個特徵解釋了絕大部分的人生存與否。"
   ]
  }
 ],
 "metadata": {
  "kernelspec": {
   "display_name": "Python 3",
   "language": "python",
   "name": "python3"
  },
  "language_info": {
   "codemirror_mode": {
    "name": "ipython",
    "version": 3
   },
   "file_extension": ".py",
   "mimetype": "text/x-python",
   "name": "python",
   "nbconvert_exporter": "python",
   "pygments_lexer": "ipython3",
   "version": "3.7.0"
  }
 },
 "nbformat": 4,
 "nbformat_minor": 2
}
