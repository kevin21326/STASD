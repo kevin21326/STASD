{
 "cells": [
  {
   "cell_type": "code",
   "execution_count": 95,
   "metadata": {},
   "outputs": [],
   "source": [
    "import numpy as np\n",
    "import pandas as pd\n",
    "import seaborn as sns\n",
    "from matplotlib import cm\n",
    "import matplotlib.pyplot as plt\n",
    "%matplotlib inline"
   ]
  },
  {
   "cell_type": "markdown",
   "metadata": {},
   "source": [
    "### 將 Titanic 資料讀入"
   ]
  },
  {
   "cell_type": "code",
   "execution_count": 4,
   "metadata": {},
   "outputs": [
    {
     "name": "stdout",
     "output_type": "stream",
     "text": [
      "<class 'pandas.core.frame.DataFrame'>\n",
      "RangeIndex: 1000 entries, 0 to 999\n",
      "Data columns (total 14 columns):\n",
      "pclass       1000 non-null int64\n",
      "survived     1000 non-null int64\n",
      "name         1000 non-null object\n",
      "sex          1000 non-null object\n",
      "age          861 non-null float64\n",
      "sibsp        1000 non-null int64\n",
      "parch        1000 non-null int64\n",
      "ticket       1000 non-null object\n",
      "fare         1000 non-null float64\n",
      "cabin        283 non-null object\n",
      "embarked     998 non-null object\n",
      "boat         417 non-null object\n",
      "body         95 non-null float64\n",
      "home.dest    742 non-null object\n",
      "dtypes: float64(3), int64(4), object(7)\n",
      "memory usage: 109.5+ KB\n"
     ]
    }
   ],
   "source": [
    "data = pd.read_csv(\"dataset/titanicTrain.csv\")\n",
    "data.info()"
   ]
  },
  {
   "cell_type": "code",
   "execution_count": 6,
   "metadata": {},
   "outputs": [
    {
     "data": {
      "text/html": [
       "<div>\n",
       "<style scoped>\n",
       "    .dataframe tbody tr th:only-of-type {\n",
       "        vertical-align: middle;\n",
       "    }\n",
       "\n",
       "    .dataframe tbody tr th {\n",
       "        vertical-align: top;\n",
       "    }\n",
       "\n",
       "    .dataframe thead th {\n",
       "        text-align: right;\n",
       "    }\n",
       "</style>\n",
       "<table border=\"1\" class=\"dataframe\">\n",
       "  <thead>\n",
       "    <tr style=\"text-align: right;\">\n",
       "      <th></th>\n",
       "      <th>pclass</th>\n",
       "      <th>survived</th>\n",
       "      <th>name</th>\n",
       "      <th>sex</th>\n",
       "      <th>age</th>\n",
       "      <th>sibsp</th>\n",
       "      <th>parch</th>\n",
       "      <th>ticket</th>\n",
       "      <th>fare</th>\n",
       "      <th>cabin</th>\n",
       "      <th>embarked</th>\n",
       "      <th>boat</th>\n",
       "      <th>body</th>\n",
       "      <th>home.dest</th>\n",
       "    </tr>\n",
       "  </thead>\n",
       "  <tbody>\n",
       "    <tr>\n",
       "      <th>0</th>\n",
       "      <td>1</td>\n",
       "      <td>1</td>\n",
       "      <td>Allen, Miss. Elisabeth Walton</td>\n",
       "      <td>female</td>\n",
       "      <td>29.0000</td>\n",
       "      <td>0</td>\n",
       "      <td>0</td>\n",
       "      <td>24160</td>\n",
       "      <td>211.3375</td>\n",
       "      <td>B5</td>\n",
       "      <td>S</td>\n",
       "      <td>2</td>\n",
       "      <td>NaN</td>\n",
       "      <td>St Louis, MO</td>\n",
       "    </tr>\n",
       "    <tr>\n",
       "      <th>1</th>\n",
       "      <td>1</td>\n",
       "      <td>1</td>\n",
       "      <td>Allison, Master. Hudson Trevor</td>\n",
       "      <td>male</td>\n",
       "      <td>0.9167</td>\n",
       "      <td>1</td>\n",
       "      <td>2</td>\n",
       "      <td>113781</td>\n",
       "      <td>151.5500</td>\n",
       "      <td>C22 C26</td>\n",
       "      <td>S</td>\n",
       "      <td>11</td>\n",
       "      <td>NaN</td>\n",
       "      <td>Montreal, PQ / Chesterville, ON</td>\n",
       "    </tr>\n",
       "    <tr>\n",
       "      <th>2</th>\n",
       "      <td>1</td>\n",
       "      <td>0</td>\n",
       "      <td>Allison, Miss. Helen Loraine</td>\n",
       "      <td>female</td>\n",
       "      <td>2.0000</td>\n",
       "      <td>1</td>\n",
       "      <td>2</td>\n",
       "      <td>113781</td>\n",
       "      <td>151.5500</td>\n",
       "      <td>C22 C26</td>\n",
       "      <td>S</td>\n",
       "      <td>NaN</td>\n",
       "      <td>NaN</td>\n",
       "      <td>Montreal, PQ / Chesterville, ON</td>\n",
       "    </tr>\n",
       "    <tr>\n",
       "      <th>3</th>\n",
       "      <td>1</td>\n",
       "      <td>0</td>\n",
       "      <td>Allison, Mr. Hudson Joshua Creighton</td>\n",
       "      <td>male</td>\n",
       "      <td>30.0000</td>\n",
       "      <td>1</td>\n",
       "      <td>2</td>\n",
       "      <td>113781</td>\n",
       "      <td>151.5500</td>\n",
       "      <td>C22 C26</td>\n",
       "      <td>S</td>\n",
       "      <td>NaN</td>\n",
       "      <td>135.0</td>\n",
       "      <td>Montreal, PQ / Chesterville, ON</td>\n",
       "    </tr>\n",
       "    <tr>\n",
       "      <th>4</th>\n",
       "      <td>1</td>\n",
       "      <td>0</td>\n",
       "      <td>Allison, Mrs. Hudson J C (Bessie Waldo Daniels)</td>\n",
       "      <td>female</td>\n",
       "      <td>25.0000</td>\n",
       "      <td>1</td>\n",
       "      <td>2</td>\n",
       "      <td>113781</td>\n",
       "      <td>151.5500</td>\n",
       "      <td>C22 C26</td>\n",
       "      <td>S</td>\n",
       "      <td>NaN</td>\n",
       "      <td>NaN</td>\n",
       "      <td>Montreal, PQ / Chesterville, ON</td>\n",
       "    </tr>\n",
       "    <tr>\n",
       "      <th>5</th>\n",
       "      <td>1</td>\n",
       "      <td>1</td>\n",
       "      <td>Anderson, Mr. Harry</td>\n",
       "      <td>male</td>\n",
       "      <td>48.0000</td>\n",
       "      <td>0</td>\n",
       "      <td>0</td>\n",
       "      <td>19952</td>\n",
       "      <td>26.5500</td>\n",
       "      <td>E12</td>\n",
       "      <td>S</td>\n",
       "      <td>3</td>\n",
       "      <td>NaN</td>\n",
       "      <td>New York, NY</td>\n",
       "    </tr>\n",
       "    <tr>\n",
       "      <th>6</th>\n",
       "      <td>1</td>\n",
       "      <td>1</td>\n",
       "      <td>Andrews, Miss. Kornelia Theodosia</td>\n",
       "      <td>female</td>\n",
       "      <td>63.0000</td>\n",
       "      <td>1</td>\n",
       "      <td>0</td>\n",
       "      <td>13502</td>\n",
       "      <td>77.9583</td>\n",
       "      <td>D7</td>\n",
       "      <td>S</td>\n",
       "      <td>10</td>\n",
       "      <td>NaN</td>\n",
       "      <td>Hudson, NY</td>\n",
       "    </tr>\n",
       "    <tr>\n",
       "      <th>7</th>\n",
       "      <td>1</td>\n",
       "      <td>0</td>\n",
       "      <td>Andrews, Mr. Thomas Jr</td>\n",
       "      <td>male</td>\n",
       "      <td>39.0000</td>\n",
       "      <td>0</td>\n",
       "      <td>0</td>\n",
       "      <td>112050</td>\n",
       "      <td>0.0000</td>\n",
       "      <td>A36</td>\n",
       "      <td>S</td>\n",
       "      <td>NaN</td>\n",
       "      <td>NaN</td>\n",
       "      <td>Belfast, NI</td>\n",
       "    </tr>\n",
       "    <tr>\n",
       "      <th>8</th>\n",
       "      <td>1</td>\n",
       "      <td>1</td>\n",
       "      <td>Appleton, Mrs. Edward Dale (Charlotte Lamson)</td>\n",
       "      <td>female</td>\n",
       "      <td>53.0000</td>\n",
       "      <td>2</td>\n",
       "      <td>0</td>\n",
       "      <td>11769</td>\n",
       "      <td>51.4792</td>\n",
       "      <td>C101</td>\n",
       "      <td>S</td>\n",
       "      <td>D</td>\n",
       "      <td>NaN</td>\n",
       "      <td>Bayside, Queens, NY</td>\n",
       "    </tr>\n",
       "    <tr>\n",
       "      <th>9</th>\n",
       "      <td>1</td>\n",
       "      <td>0</td>\n",
       "      <td>Artagaveytia, Mr. Ramon</td>\n",
       "      <td>male</td>\n",
       "      <td>71.0000</td>\n",
       "      <td>0</td>\n",
       "      <td>0</td>\n",
       "      <td>PC 17609</td>\n",
       "      <td>49.5042</td>\n",
       "      <td>NaN</td>\n",
       "      <td>C</td>\n",
       "      <td>NaN</td>\n",
       "      <td>22.0</td>\n",
       "      <td>Montevideo, Uruguay</td>\n",
       "    </tr>\n",
       "  </tbody>\n",
       "</table>\n",
       "</div>"
      ],
      "text/plain": [
       "   pclass  survived                                             name     sex  \\\n",
       "0       1         1                    Allen, Miss. Elisabeth Walton  female   \n",
       "1       1         1                   Allison, Master. Hudson Trevor    male   \n",
       "2       1         0                     Allison, Miss. Helen Loraine  female   \n",
       "3       1         0             Allison, Mr. Hudson Joshua Creighton    male   \n",
       "4       1         0  Allison, Mrs. Hudson J C (Bessie Waldo Daniels)  female   \n",
       "5       1         1                              Anderson, Mr. Harry    male   \n",
       "6       1         1                Andrews, Miss. Kornelia Theodosia  female   \n",
       "7       1         0                           Andrews, Mr. Thomas Jr    male   \n",
       "8       1         1    Appleton, Mrs. Edward Dale (Charlotte Lamson)  female   \n",
       "9       1         0                          Artagaveytia, Mr. Ramon    male   \n",
       "\n",
       "       age  sibsp  parch    ticket      fare    cabin embarked boat   body  \\\n",
       "0  29.0000      0      0     24160  211.3375       B5        S    2    NaN   \n",
       "1   0.9167      1      2    113781  151.5500  C22 C26        S   11    NaN   \n",
       "2   2.0000      1      2    113781  151.5500  C22 C26        S  NaN    NaN   \n",
       "3  30.0000      1      2    113781  151.5500  C22 C26        S  NaN  135.0   \n",
       "4  25.0000      1      2    113781  151.5500  C22 C26        S  NaN    NaN   \n",
       "5  48.0000      0      0     19952   26.5500      E12        S    3    NaN   \n",
       "6  63.0000      1      0     13502   77.9583       D7        S   10    NaN   \n",
       "7  39.0000      0      0    112050    0.0000      A36        S  NaN    NaN   \n",
       "8  53.0000      2      0     11769   51.4792     C101        S    D    NaN   \n",
       "9  71.0000      0      0  PC 17609   49.5042      NaN        C  NaN   22.0   \n",
       "\n",
       "                         home.dest  \n",
       "0                     St Louis, MO  \n",
       "1  Montreal, PQ / Chesterville, ON  \n",
       "2  Montreal, PQ / Chesterville, ON  \n",
       "3  Montreal, PQ / Chesterville, ON  \n",
       "4  Montreal, PQ / Chesterville, ON  \n",
       "5                     New York, NY  \n",
       "6                       Hudson, NY  \n",
       "7                      Belfast, NI  \n",
       "8              Bayside, Queens, NY  \n",
       "9              Montevideo, Uruguay  "
      ]
     },
     "execution_count": 6,
     "metadata": {},
     "output_type": "execute_result"
    }
   ],
   "source": [
    "data.head(10)"
   ]
  },
  {
   "cell_type": "markdown",
   "metadata": {},
   "source": [
    "說明各欄位的意義：\n",
    "- pclass: 艙等\n",
    "- survived: 生存與否，存活為1\n",
    "- name: 乘客姓名\n",
    "- sex: 乘客性別\n",
    "- age: 乘客年齡\n",
    "- sibsp: 兄弟姊妹+配偶人數 (Sibling aand Spouse)\n",
    "- parch: 父母+子女人數 (Parent and Children)\n",
    "- ticket: 船票編號\n",
    "- fare: 票價\n",
    "- cabin: 船艙號碼\n",
    "- embarked: 出發地\n",
    "- boat: 所乘救生艇的編號\n",
    "- body: 遺體編號 Body Identification Number\n",
    "- home.dest: 家鄉/目的地 (Home/Destination)\n",
    "\n",
    "想知道更詳細的資訊可以參考此網站：http://biostat.mc.vanderbilt.edu/wiki/pub/Main/DataSets/titanic3info.txt"
   ]
  },
  {
   "cell_type": "markdown",
   "metadata": {},
   "source": [
    "## 探索性資料分析 (Explorative Data Analysis, EDA)"
   ]
  },
  {
   "cell_type": "code",
   "execution_count": 108,
   "metadata": {},
   "outputs": [],
   "source": [
    "# A function for getting colors from built-in colormap\n",
    "def get_colors(colormap, n):\n",
    "    color_cood = np.linspace(0, 1, n)\n",
    "    colors = [plt.get_cmap(colormap)(i) for i in color_cood]\n",
    "    return colors"
   ]
  },
  {
   "cell_type": "markdown",
   "metadata": {},
   "source": [
    "#### 應變數 Survived "
   ]
  },
  {
   "cell_type": "code",
   "execution_count": 126,
   "metadata": {},
   "outputs": [
    {
     "data": {
      "image/png": "[encoded data removed]",
      "text/plain": [
       "<Figure size 432x288 with 1 Axes>"
      ]
     },
     "metadata": {
      "needs_background": "light"
     },
     "output_type": "display_data"
    }
   ],
   "source": [
    "survived_count = data.groupby('survived')['name'].count()\n",
    "plt.bar(x =[str(i) for i in survived_count.index],\n",
    "        height = survived_count.values, \n",
    "        color = get_colors('Spectral', 2))\n",
    "for i, val, c in zip(survived_count.index, survived_count.values, tcolor):\n",
    "    plt.annotate(str(val),\n",
    "                 xy = (i, val-50),\n",
    "                 horizontalalignment = 'center',\n",
    "                 fontsize = 14,\n",
    "                 color = 'white')\n",
    "plt.title(\"Survived\", fontsize=16)\n",
    "plt.show()"
   ]
  },
  {
   "cell_type": "markdown",
   "metadata": {},
   "source": [
    "#### 自變數 pclass"
   ]
  },
  {
   "cell_type": "code",
   "execution_count": 197,
   "metadata": {},
   "outputs": [
    {
     "data": {
      "image/png": "[encoded data removed]",
      "text/plain": [
       "<Figure size 432x288 with 2 Axes>"
      ]
     },
     "metadata": {
      "needs_background": "light"
     },
     "output_type": "display_data"
    }
   ],
   "source": [
    "pclass_count = data.groupby('pclass').size()\n",
    "pclass_survived = data.groupby(['pclass', 'survived']).size()[1::2]\n",
    "pclass_survived_rate = [i/j  for i, j in zip(pclass_survived, pclass_count)]\n",
    "\n",
    "fig, ax = plt.subplots()\n",
    "ax.bar(x =[str(i) for i in pclass_count.index],\n",
    "        height = pclass_count.values,\n",
    "        color = get_colors('tab20b', 3))\n",
    "ax.set_ylabel('Passenger')\n",
    "\n",
    "tcolor = ['white', 'black', 'black']\n",
    "for i, val, c in zip(pclass_count.index, pclass_count.values, tcolor):\n",
    "    plt.annotate(str(val),\n",
    "                 xy = (i-1, val-30),\n",
    "                 horizontalalignment = 'center',\n",
    "                 fontsize = 14,\n",
    "                 color = c)\n",
    "\n",
    "ax2 = ax.twinx()\n",
    "ax2.set_ylabel('Survival Rate')\n",
    "ax2.plot(pclass_survived_rate, marker='o', color='red')\n",
    "for i, val in zip(pclass_count.index, pclass_survived_rate):\n",
    "    ax2.annotate(\"%.2f\"%(val),\n",
    "                 xy = (i-1+0.2, val),\n",
    "                 horizontalalignment = 'center')\n",
    "\n",
    "plt.title(\"Pclass\", fontsize=16)\n",
    "plt.show()"
   ]
  },
  {
   "cell_type": "code",
   "execution_count": 209,
   "metadata": {},
   "outputs": [
    {
     "data": {
      "image/png": "[encoded data removed]",
      "text/plain": [
       "<Figure size 432x288 with 2 Axes>"
      ]
     },
     "metadata": {
      "needs_background": "light"
     },
     "output_type": "display_data"
    }
   ],
   "source": [
    "sex_count = data.groupby('sex').size()\n",
    "sex_survived = data.groupby(['pclass', 'survived']).size()[1::2]\n",
    "sex_survived_rate = [i/j  for i, j in zip(sex_survived, sex_count)]\n",
    "\n",
    "fig, ax = plt.subplots()\n",
    "ax.bar(x = sex_count.index,\n",
    "       height = sex_count.values,\n",
    "       color = get_colors('tab20b', 3)[0:2])\n",
    "ax.set_ylabel('Passengers')\n",
    "\n",
    "tcolor = ['white', 'black']\n",
    "for i, c in zip(range(len(sex_count.index)), tcolor):\n",
    "    plt.annotate(sex_count.values[i],\n",
    "                 xy = (i, sex_count.values[i]-50),\n",
    "                 horizontalalignment = 'center',\n",
    "                 fontsize = 14,\n",
    "                 color = c)\n",
    "\n",
    "ax2 = ax.twinx()\n",
    "ax2.set_ylabel('Survival Rate')\n",
    "ax2.plot(sex_survived_rate, marker='o', color='red')\n",
    "for i, val in zip(range(len(sex_count.index)), sex_survived_rate):\n",
    "    ax2.annotate(\"%.2f\"%(val),\n",
    "                 xy = (i+0.1, val),\n",
    "                 horizontalalignment = 'center',\n",
    "                 fontsize = 12)\n",
    "\n",
    "plt.title(\"Sex\", fontsize=16)\n",
    "plt.show()"
   ]
  },
  {
   "cell_type": "code",
   "execution_count": 163,
   "metadata": {},
   "outputs": [
    {
     "data": {
      "image/png": "[encoded data removed]",
      "text/plain": [
       "<Figure size 864x576 with 4 Axes>"
      ]
     },
     "metadata": {
      "needs_background": "light"
     },
     "output_type": "display_data"
    }
   ],
   "source": [
    "age = data['age'].fillna(-10) # since there are NaNs in age column\n",
    "fig, ax = plt.subplots(2, 2, figsize=(12, 8))\n",
    "\n",
    "ax[0, 0].hist(x=age, bins=50)\n",
    "ax[0, 0].set_title(\"Age Distribution\", fontsize=16) \n",
    "\n",
    "ax[0, 1].bar(x=['Non-ommited', 'Ommited'], height=[len(age[age>0]), 1000-len(age[age>0])], color=get_colors('Spectral', 2))\n",
    "ax[0, 1].annotate(str(len(age[age>0])), xy=(0, len(age[age>0])-75), horizontalalignment='center', fontsize=14, color='white')\n",
    "ax[0, 1].annotate(str(1000-len(age[age>0])), xy=(1, 1000-len(age[age>0])-75), horizontalalignment='center', fontsize=14, color='white')\n",
    "ax[0, 1].set_title(\"Age's Omitted Values\", fontsize=16)\n",
    "\n",
    "sns.boxplot(age[age>0], ax=ax[1, 0])\n",
    "ax[1, 0].set_title(\"Age Boxplot\", fontsize=16) \n",
    "plt.show()"
   ]
  },
  {
   "cell_type": "code",
   "execution_count": 129,
   "metadata": {},
   "outputs": [
    {
     "data": {
      "image/png": "[encoded data removed]",
      "text/plain": [
       "<Figure size 864x288 with 2 Axes>"
      ]
     },
     "metadata": {
      "needs_background": "light"
     },
     "output_type": "display_data"
    }
   ],
   "source": [
    "fare = data['fare']\n",
    "fig, ax = plt.subplots(1, 2, figsize=(12, 4))\n",
    "ax[0].hist(x=fare, bins=50)\n",
    "ax[0].set_title('Fare Distribution', fontsize=16)\n",
    "ax[1] = sns.boxplot(fare, labels=['Fare'])\n",
    "ax[1].set_title('Fare Boxplot', fontsize=16)\n",
    "plt.show()"
   ]
  },
  {
   "cell_type": "code",
   "execution_count": 147,
   "metadata": {},
   "outputs": [
    {
     "data": {
      "image/png": "[encoded data removed]",
      "text/plain": [
       "<Figure size 864x288 with 2 Axes>"
      ]
     },
     "metadata": {
      "needs_background": "light"
     },
     "output_type": "display_data"
    }
   ],
   "source": [
    "embarked_count = data.groupby('embarked')['survived'].count()\n",
    "fig, ax = plt.subplots(1, 2, figsize=(12, 4))\n",
    "\n",
    "ax[0].bar(x =[str(i) for i in embarked_count.index],\n",
    "        height = embarked_count.values,\n",
    "        color = get_colors('tab20b', 3))\n",
    "tcolor = ['white', 'black', 'black']\n",
    "for i, val, c in zip(embarked_count.index, embarked_count.values, tcolor):\n",
    "    ax[0].annotate(str(val),\n",
    "                 xy = (i, val-50),\n",
    "                 horizontalalignment = 'center',\n",
    "                 fontsize = 14,\n",
    "                 color = c)\n",
    "ax[0].set_title(\"embarked\", fontsize=16)\n",
    "\n",
    "embarked_Na_notNA = [len(data[data['embarked'].notna()]), len(data[data['embarked'].isna()])]\n",
    "ax[1].bar(x=['Non-ommited', 'Ommited'],\n",
    "          height=embarked_Na_notNA,\n",
    "          color=get_colors('Spectral', 2))\n",
    "ax[1].annotate(str(len(age[age>0])), xy=(0, embarked_Na_notNA[0]-75), horizontalalignment='center', fontsize=14, color='white')\n",
    "ax[1].annotate(str(1000-len(age[age>0])), xy=(1, embarked_Na_notNA[1]+50), horizontalalignment='center', fontsize=14)\n",
    "ax[1].set_title(\"Embarked Ommited Values\", fontsize=16)\n",
    "plt.show()"
   ]
  },
  {
   "cell_type": "code",
   "execution_count": 107,
   "metadata": {},
   "outputs": [
    {
     "data": {
      "text/plain": [
       "array([0. , 0.5, 1. ])"
      ]
     },
     "execution_count": 107,
     "metadata": {},
     "output_type": "execute_result"
    }
   ],
   "source": [
    "np.linspace(0, 1, 3)"
   ]
  },
  {
   "cell_type": "code",
   "execution_count": null,
   "metadata": {},
   "outputs": [],
   "source": []
  }
 ],
 "metadata": {
  "kernelspec": {
   "display_name": "Python 3",
   "language": "python",
   "name": "python3"
  },
  "language_info": {
   "codemirror_mode": {
    "name": "ipython",
    "version": 3
   },
   "file_extension": ".py",
   "mimetype": "text/x-python",
   "name": "python",
   "nbconvert_exporter": "python",
   "pygments_lexer": "ipython3",
   "version": "3.7.0"
  }
 },
 "nbformat": 4,
 "nbformat_minor": 2
}
